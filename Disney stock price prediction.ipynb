{
 "cells": [
  {
   "cell_type": "code",
   "execution_count": 183,
   "metadata": {},
   "outputs": [
    {
     "data": {
      "text/html": [
       "        <script type=\"text/javascript\">\n",
       "        window.PlotlyConfig = {MathJaxConfig: 'local'};\n",
       "        if (window.MathJax && window.MathJax.Hub && window.MathJax.Hub.Config) {window.MathJax.Hub.Config({SVG: {font: \"STIX-Web\"}});}\n",
       "        if (typeof require !== 'undefined') {\n",
       "        require.undef(\"plotly\");\n",
       "        requirejs.config({\n",
       "            paths: {\n",
       "                'plotly': ['https://cdn.plot.ly/plotly-2.26.0.min']\n",
       "            }\n",
       "        });\n",
       "        require(['plotly'], function(Plotly) {\n",
       "            window._Plotly = Plotly;\n",
       "        });\n",
       "        }\n",
       "        </script>\n",
       "        "
      ]
     },
     "metadata": {},
     "output_type": "display_data"
    }
   ],
   "source": [
    "import pandas as pd\n",
    "import numpy as np\n",
    "import matplotlib.pyplot as plt\n",
    "%matplotlib inline\n",
    "\n",
    "import chart_studio.plotly as py\n",
    "import plotly.graph_objs as go\n",
    "from plotly.offline import plot\n",
    "\n",
    "from plotly.offline import download_plotlyjs, init_notebook_mode, plot, iplot\n",
    "init_notebook_mode(connected=True) "
   ]
  },
  {
   "cell_type": "code",
   "execution_count": 184,
   "metadata": {},
   "outputs": [
    {
     "data": {
      "text/html": [
       "<div>\n",
       "<style scoped>\n",
       "    .dataframe tbody tr th:only-of-type {\n",
       "        vertical-align: middle;\n",
       "    }\n",
       "\n",
       "    .dataframe tbody tr th {\n",
       "        vertical-align: top;\n",
       "    }\n",
       "\n",
       "    .dataframe thead th {\n",
       "        text-align: right;\n",
       "    }\n",
       "</style>\n",
       "<table border=\"1\" class=\"dataframe\">\n",
       "  <thead>\n",
       "    <tr style=\"text-align: right;\">\n",
       "      <th></th>\n",
       "      <th>Date</th>\n",
       "      <th>Open</th>\n",
       "      <th>High</th>\n",
       "      <th>Low</th>\n",
       "      <th>Close</th>\n",
       "      <th>Volume</th>\n",
       "    </tr>\n",
       "  </thead>\n",
       "  <tbody>\n",
       "    <tr>\n",
       "      <td>0</td>\n",
       "      <td>10/20/2023</td>\n",
       "      <td>82.90</td>\n",
       "      <td>83.44</td>\n",
       "      <td>82.61</td>\n",
       "      <td>82.65</td>\n",
       "      <td>10,436,990</td>\n",
       "    </tr>\n",
       "    <tr>\n",
       "      <td>1</td>\n",
       "      <td>10/19/2023</td>\n",
       "      <td>85.26</td>\n",
       "      <td>85.27</td>\n",
       "      <td>83.17</td>\n",
       "      <td>83.25</td>\n",
       "      <td>14,316,810</td>\n",
       "    </tr>\n",
       "    <tr>\n",
       "      <td>2</td>\n",
       "      <td>10/18/2023</td>\n",
       "      <td>85.69</td>\n",
       "      <td>86.26</td>\n",
       "      <td>84.60</td>\n",
       "      <td>84.68</td>\n",
       "      <td>10,047,020</td>\n",
       "    </tr>\n",
       "    <tr>\n",
       "      <td>3</td>\n",
       "      <td>10/17/2023</td>\n",
       "      <td>85.35</td>\n",
       "      <td>86.29</td>\n",
       "      <td>85.31</td>\n",
       "      <td>86.20</td>\n",
       "      <td>9,985,651</td>\n",
       "    </tr>\n",
       "    <tr>\n",
       "      <td>4</td>\n",
       "      <td>10/16/2023</td>\n",
       "      <td>84.31</td>\n",
       "      <td>85.93</td>\n",
       "      <td>84.31</td>\n",
       "      <td>85.71</td>\n",
       "      <td>10,275,140</td>\n",
       "    </tr>\n",
       "  </tbody>\n",
       "</table>\n",
       "</div>"
      ],
      "text/plain": [
       "         Date   Open   High    Low  Close      Volume\n",
       "0  10/20/2023  82.90  83.44  82.61  82.65  10,436,990\n",
       "1  10/19/2023  85.26  85.27  83.17  83.25  14,316,810\n",
       "2  10/18/2023  85.69  86.26  84.60  84.68  10,047,020\n",
       "3  10/17/2023  85.35  86.29  85.31  86.20   9,985,651\n",
       "4  10/16/2023  84.31  85.93  84.31  85.71  10,275,140"
      ]
     },
     "execution_count": 184,
     "metadata": {},
     "output_type": "execute_result"
    }
   ],
   "source": [
    "Disney = pd.read_csv(r'C:\\Users\\Santhosh\\Desktop\\DIS_final.csv')\n",
    "Disney.head()"
   ]
  },
  {
   "cell_type": "code",
   "execution_count": 185,
   "metadata": {},
   "outputs": [
    {
     "name": "stdout",
     "output_type": "stream",
     "text": [
      "<class 'pandas.core.frame.DataFrame'>\n",
      "RangeIndex: 252 entries, 0 to 251\n",
      "Data columns (total 6 columns):\n",
      "Date      252 non-null object\n",
      "Open      252 non-null float64\n",
      "High      252 non-null float64\n",
      "Low       252 non-null float64\n",
      "Close     252 non-null float64\n",
      "Volume    252 non-null object\n",
      "dtypes: float64(4), object(2)\n",
      "memory usage: 11.9+ KB\n"
     ]
    }
   ],
   "source": [
    "Disney.info()"
   ]
  },
  {
   "cell_type": "code",
   "execution_count": 186,
   "metadata": {},
   "outputs": [],
   "source": [
    "Disney['Date'] = pd.to_datetime(Disney['Date'])"
   ]
  },
  {
   "cell_type": "code",
   "execution_count": 187,
   "metadata": {},
   "outputs": [
    {
     "name": "stdout",
     "output_type": "stream",
     "text": [
      "Dataframe contains stock prices between 2022-10-20 00:00:00 2023-10-20 00:00:00\n",
      "Total days = 365 days\n"
     ]
    }
   ],
   "source": [
    "print(f'Dataframe contains stock prices between {Disney.Date.min()} {Disney.Date.max()}') \n",
    "print(f'Total days = {(Disney.Date.max()  - Disney.Date.min()).days} days')"
   ]
  },
  {
   "cell_type": "code",
   "execution_count": 188,
   "metadata": {},
   "outputs": [
    {
     "data": {
      "text/html": [
       "<div>\n",
       "<style scoped>\n",
       "    .dataframe tbody tr th:only-of-type {\n",
       "        vertical-align: middle;\n",
       "    }\n",
       "\n",
       "    .dataframe tbody tr th {\n",
       "        vertical-align: top;\n",
       "    }\n",
       "\n",
       "    .dataframe thead th {\n",
       "        text-align: right;\n",
       "    }\n",
       "</style>\n",
       "<table border=\"1\" class=\"dataframe\">\n",
       "  <thead>\n",
       "    <tr style=\"text-align: right;\">\n",
       "      <th></th>\n",
       "      <th>Open</th>\n",
       "      <th>High</th>\n",
       "      <th>Low</th>\n",
       "      <th>Close</th>\n",
       "    </tr>\n",
       "  </thead>\n",
       "  <tbody>\n",
       "    <tr>\n",
       "      <td>count</td>\n",
       "      <td>252.000000</td>\n",
       "      <td>252.000000</td>\n",
       "      <td>252.000000</td>\n",
       "      <td>252.000000</td>\n",
       "    </tr>\n",
       "    <tr>\n",
       "      <td>mean</td>\n",
       "      <td>93.370952</td>\n",
       "      <td>94.355913</td>\n",
       "      <td>92.250317</td>\n",
       "      <td>93.318730</td>\n",
       "    </tr>\n",
       "    <tr>\n",
       "      <td>std</td>\n",
       "      <td>7.848330</td>\n",
       "      <td>8.039945</td>\n",
       "      <td>7.615864</td>\n",
       "      <td>7.895107</td>\n",
       "    </tr>\n",
       "    <tr>\n",
       "      <td>min</td>\n",
       "      <td>79.100000</td>\n",
       "      <td>79.790000</td>\n",
       "      <td>78.730000</td>\n",
       "      <td>79.320000</td>\n",
       "    </tr>\n",
       "    <tr>\n",
       "      <td>25%</td>\n",
       "      <td>86.795000</td>\n",
       "      <td>87.955000</td>\n",
       "      <td>85.982500</td>\n",
       "      <td>86.810000</td>\n",
       "    </tr>\n",
       "    <tr>\n",
       "      <td>50%</td>\n",
       "      <td>92.510000</td>\n",
       "      <td>93.195000</td>\n",
       "      <td>91.320000</td>\n",
       "      <td>92.525000</td>\n",
       "    </tr>\n",
       "    <tr>\n",
       "      <td>75%</td>\n",
       "      <td>99.442500</td>\n",
       "      <td>100.465000</td>\n",
       "      <td>98.157500</td>\n",
       "      <td>99.572500</td>\n",
       "    </tr>\n",
       "    <tr>\n",
       "      <td>max</td>\n",
       "      <td>118.040000</td>\n",
       "      <td>118.180000</td>\n",
       "      <td>110.370000</td>\n",
       "      <td>113.210000</td>\n",
       "    </tr>\n",
       "  </tbody>\n",
       "</table>\n",
       "</div>"
      ],
      "text/plain": [
       "             Open        High         Low       Close\n",
       "count  252.000000  252.000000  252.000000  252.000000\n",
       "mean    93.370952   94.355913   92.250317   93.318730\n",
       "std      7.848330    8.039945    7.615864    7.895107\n",
       "min     79.100000   79.790000   78.730000   79.320000\n",
       "25%     86.795000   87.955000   85.982500   86.810000\n",
       "50%     92.510000   93.195000   91.320000   92.525000\n",
       "75%     99.442500  100.465000   98.157500   99.572500\n",
       "max    118.040000  118.180000  110.370000  113.210000"
      ]
     },
     "execution_count": 188,
     "metadata": {},
     "output_type": "execute_result"
    }
   ],
   "source": [
    "Disney.describe()"
   ]
  },
  {
   "cell_type": "code",
   "execution_count": 189,
   "metadata": {},
   "outputs": [
    {
     "data": {
      "text/plain": [
       "<matplotlib.axes._subplots.AxesSubplot at 0x1b73c1124c8>"
      ]
     },
     "execution_count": 189,
     "metadata": {},
     "output_type": "execute_result"
    },
    {
     "data": {
      "image/png": "[encoded data removed]",
      "text/plain": [
       "<Figure size 432x288 with 1 Axes>"
      ]
     },
     "metadata": {
      "needs_background": "light"
     },
     "output_type": "display_data"
    }
   ],
   "source": [
    "Disney[['Open','High','Low','Close','Volume']].plot(kind='box')"
   ]
  },
  {
   "cell_type": "code",
   "execution_count": 190,
   "metadata": {},
   "outputs": [],
   "source": [
    "layout = go.Layout(\n",
    "    title='Stock Prices of Disney',\n",
    "    xaxis=dict(\n",
    "        title='Date',\n",
    "        titlefont=dict(\n",
    "            family='Courier New, monospace',\n",
    "            size=18,\n",
    "            color='#7f7f7f'\n",
    "        )\n",
    "    ),\n",
    "    yaxis=dict(\n",
    "        title='Price',\n",
    "        titlefont=dict(\n",
    "            family='Courier New, monospace',\n",
    "            size=18,\n",
    "            color='#7f7f7f'\n",
    "        )\n",
    "    )\n",
    ")\n",
    "\n",
    "Disney_data = [{'x':Disney['Date'], 'y':Disney['Close']}]\n",
    "plot = go.Figure(data=Disney_data, layout=layout)"
   ]
  },
  {
   "cell_type": "code",
   "execution_count": 191,
   "metadata": {},
   "outputs": [
    {
     "data": {
      "application/vnd.plotly.v1+json": {
       "config": {
        "linkText": "Export to plot.ly",
        "plotlyServerURL": "https://plot.ly",
        "showLink": false
       },
       "data": [
        {
         "type": "scatter",
         "x": [
          "2023-10-20T00:00:00",
          "2023-10-19T00:00:00",
          "2023-10-18T00:00:00",
          "2023-10-17T00:00:00",
          "2023-10-16T00:00:00",
          "2023-10-13T00:00:00",
          "2023-10-12T00:00:00",
          "2023-10-11T00:00:00",
          "2023-10-10T00:00:00",
          "2023-10-09T00:00:00",
          "2023-10-06T00:00:00",
          "2023-10-05T00:00:00",
          "2023-10-04T00:00:00",
          "2023-10-03T00:00:00",
          "2023-10-02T00:00:00",
          "2023-09-29T00:00:00",
          "2023-09-28T00:00:00",
          "2023-09-27T00:00:00",
          "2023-09-26T00:00:00",
          "2023-09-25T00:00:00",
          "2023-09-22T00:00:00",
          "2023-09-21T00:00:00",
          "2023-09-20T00:00:00",
          "2023-09-19T00:00:00",
          "2023-09-18T00:00:00",
          "2023-09-15T00:00:00",
          "2023-09-14T00:00:00",
          "2023-09-13T00:00:00",
          "2023-09-12T00:00:00",
          "2023-09-11T00:00:00",
          "2023-09-08T00:00:00",
          "2023-09-07T00:00:00",
          "2023-09-06T00:00:00",
          "2023-09-05T00:00:00",
          "2023-09-01T00:00:00",
          "2023-08-31T00:00:00",
          "2023-08-30T00:00:00",
          "2023-08-29T00:00:00",
          "2023-08-28T00:00:00",
          "2023-08-25T00:00:00",
          "2023-08-24T00:00:00",
          "2023-08-23T00:00:00",
          "2023-08-22T00:00:00",
          "2023-08-21T00:00:00",
          "2023-08-18T00:00:00",
          "2023-08-17T00:00:00",
          "2023-08-16T00:00:00",
          "2023-08-15T00:00:00",
          "2023-08-14T00:00:00",
          "2023-08-11T00:00:00",
          "2023-08-10T00:00:00",
          "2023-08-09T00:00:00",
          "2023-08-08T00:00:00",
          "2023-08-07T00:00:00",
          "2023-08-04T00:00:00",
          "2023-08-03T00:00:00",
          "2023-08-02T00:00:00",
          "2023-08-01T00:00:00",
          "2023-07-31T00:00:00",
          "2023-07-28T00:00:00",
          "2023-07-27T00:00:00",
          "2023-07-26T00:00:00",
          "2023-07-25T00:00:00",
          "2023-07-24T00:00:00",
          "2023-07-21T00:00:00",
          "2023-07-20T00:00:00",
          "2023-07-19T00:00:00",
          "2023-07-18T00:00:00",
          "2023-07-17T00:00:00",
          "2023-07-14T00:00:00",
          "2023-07-13T00:00:00",
          "2023-07-12T00:00:00",
          "2023-07-11T00:00:00",
          "2023-07-10T00:00:00",
          "2023-07-07T00:00:00",
          "2023-07-06T00:00:00",
          "2023-07-05T00:00:00",
          "2023-07-03T00:00:00",
          "2023-06-30T00:00:00",
          "2023-06-29T00:00:00",
          "2023-06-28T00:00:00",
          "2023-06-27T00:00:00",
          "2023-06-26T00:00:00",
          "2023-06-23T00:00:00",
          "2023-06-22T00:00:00",
          "2023-06-21T00:00:00",
          "2023-06-20T00:00:00",
          "2023-06-16T00:00:00",
          "2023-06-15T00:00:00",
          "2023-06-14T00:00:00",
          "2023-06-13T00:00:00",
          "2023-06-12T00:00:00",
          "2023-06-09T00:00:00",
          "2023-06-08T00:00:00",
          "2023-06-07T00:00:00",
          "2023-06-06T00:00:00",
          "2023-06-05T00:00:00",
          "2023-06-02T00:00:00",
          "2023-06-01T00:00:00",
          "2023-05-31T00:00:00",
          "2023-05-30T00:00:00",
          "2023-05-26T00:00:00",
          "2023-05-25T00:00:00",
          "2023-05-24T00:00:00",
          "2023-05-23T00:00:00",
          "2023-05-22T00:00:00",
          "2023-05-19T00:00:00",
          "2023-05-18T00:00:00",
          "2023-05-17T00:00:00",
          "2023-05-16T00:00:00",
          "2023-05-15T00:00:00",
          "2023-05-12T00:00:00",
          "2023-05-11T00:00:00",
          "2023-05-10T00:00:00",
          "2023-05-09T00:00:00",
          "2023-05-08T00:00:00",
          "2023-05-05T00:00:00",
          "2023-05-04T00:00:00",
          "2023-05-03T00:00:00",
          "2023-05-02T00:00:00",
          "2023-05-01T00:00:00",
          "2023-04-28T00:00:00",
          "2023-04-27T00:00:00",
          "2023-04-26T00:00:00",
          "2023-04-25T00:00:00",
          "2023-04-24T00:00:00",
          "2023-04-21T00:00:00",
          "2023-04-20T00:00:00",
          "2023-04-19T00:00:00",
          "2023-04-18T00:00:00",
          "2023-04-17T00:00:00",
          "2023-04-14T00:00:00",
          "2023-04-13T00:00:00",
          "2023-04-12T00:00:00",
          "2023-04-11T00:00:00",
          "2023-04-10T00:00:00",
          "2023-04-06T00:00:00",
          "2023-04-05T00:00:00",
          "2023-04-04T00:00:00",
          "2023-04-03T00:00:00",
          "2023-03-31T00:00:00",
          "2023-03-30T00:00:00",
          "2023-03-29T00:00:00",
          "2023-03-28T00:00:00",
          "2023-03-27T00:00:00",
          "2023-03-24T00:00:00",
          "2023-03-23T00:00:00",
          "2023-03-22T00:00:00",
          "2023-03-21T00:00:00",
          "2023-03-20T00:00:00",
          "2023-03-17T00:00:00",
          "2023-03-16T00:00:00",
          "2023-03-15T00:00:00",
          "2023-03-14T00:00:00",
          "2023-03-13T00:00:00",
          "2023-03-10T00:00:00",
          "2023-03-09T00:00:00",
          "2023-03-08T00:00:00",
          "2023-03-07T00:00:00",
          "2023-03-06T00:00:00",
          "2023-03-03T00:00:00",
          "2023-03-02T00:00:00",
          "2023-03-01T00:00:00",
          "2023-02-28T00:00:00",
          "2023-02-27T00:00:00",
          "2023-02-24T00:00:00",
          "2023-02-23T00:00:00",
          "2023-02-22T00:00:00",
          "2023-02-21T00:00:00",
          "2023-02-17T00:00:00",
          "2023-02-16T00:00:00",
          "2023-02-15T00:00:00",
          "2023-02-14T00:00:00",
          "2023-02-13T00:00:00",
          "2023-02-10T00:00:00",
          "2023-02-09T00:00:00",
          "2023-02-08T00:00:00",
          "2023-02-07T00:00:00",
          "2023-02-06T00:00:00",
          "2023-02-03T00:00:00",
          "2023-02-02T00:00:00",
          "2023-02-01T00:00:00",
          "2023-01-31T00:00:00",
          "2023-01-30T00:00:00",
          "2023-01-27T00:00:00",
          "2023-01-26T00:00:00",
          "2023-01-25T00:00:00",
          "2023-01-24T00:00:00",
          "2023-01-23T00:00:00",
          "2023-01-20T00:00:00",
          "2023-01-19T00:00:00",
          "2023-01-18T00:00:00",
          "2023-01-17T00:00:00",
          "2023-01-13T00:00:00",
          "2023-01-12T00:00:00",
          "2023-01-11T00:00:00",
          "2023-01-10T00:00:00",
          "2023-01-09T00:00:00",
          "2023-01-06T00:00:00",
          "2023-01-05T00:00:00",
          "2023-01-04T00:00:00",
          "2023-01-03T00:00:00",
          "2022-12-30T00:00:00",
          "2022-12-29T00:00:00",
          "2022-12-28T00:00:00",
          "2022-12-27T00:00:00",
          "2022-12-23T00:00:00",
          "2022-12-22T00:00:00",
          "2022-12-21T00:00:00",
          "2022-12-20T00:00:00",
          "2022-12-19T00:00:00",
          "2022-12-16T00:00:00",
          "2022-12-15T00:00:00",
          "2022-12-14T00:00:00",
          "2022-12-13T00:00:00",
          "2022-12-12T00:00:00",
          "2022-12-09T00:00:00",
          "2022-12-08T00:00:00",
          "2022-12-07T00:00:00",
          "2022-12-06T00:00:00",
          "2022-12-05T00:00:00",
          "2022-12-02T00:00:00",
          "2022-12-01T00:00:00",
          "2022-11-30T00:00:00",
          "2022-11-29T00:00:00",
          "2022-11-28T00:00:00",
          "2022-11-25T00:00:00",
          "2022-11-23T00:00:00",
          "2022-11-22T00:00:00",
          "2022-11-21T00:00:00",
          "2022-11-18T00:00:00",
          "2022-11-17T00:00:00",
          "2022-11-16T00:00:00",
          "2022-11-15T00:00:00",
          "2022-11-14T00:00:00",
          "2022-11-11T00:00:00",
          "2022-11-10T00:00:00",
          "2022-11-09T00:00:00",
          "2022-11-08T00:00:00",
          "2022-11-07T00:00:00",
          "2022-11-04T00:00:00",
          "2022-11-03T00:00:00",
          "2022-11-02T00:00:00",
          "2022-11-01T00:00:00",
          "2022-10-31T00:00:00",
          "2022-10-28T00:00:00",
          "2022-10-27T00:00:00",
          "2022-10-26T00:00:00",
          "2022-10-25T00:00:00",
          "2022-10-24T00:00:00",
          "2022-10-21T00:00:00",
          "2022-10-20T00:00:00"
         ],
         "y": [
          82.65,
          83.25,
          84.68,
          86.2,
          85.71,
          84.35,
          84.35,
          84.85,
          84.99,
          84.7,
          82.94,
          80.81,
          79.32,
          79.54,
          81.67,
          81.05,
          80.13,
          79.9,
          80.05,
          81.01,
          81.25,
          82.73,
          82.56,
          81.94,
          85.02,
          85.58,
          84.48,
          83.48,
          83.68,
          82.52,
          81.58,
          80.57,
          80.98,
          81.19,
          81.64,
          83.68,
          84.28,
          84.4,
          84.16,
          83.36,
          82.47,
          85.83,
          85.79,
          85.88,
          85.96,
          85.92,
          86.35,
          87.06,
          88.81,
          89.02,
          91.76,
          87.49,
          88.13,
          86.83,
          86.3,
          85.49,
          86.3,
          89.03,
          88.89,
          86.13,
          85.36,
          85.86,
          85.63,
          86.6,
          87.18,
          86.21,
          87.04,
          85.95,
          85.56,
          88.62,
          90.47,
          90.15,
          89.49,
          88.1,
          88.64,
          88.74,
          89.79,
          90.5,
          89.28,
          88.95,
          88.83,
          89.06,
          88.7,
          88.1,
          88.49,
          88.64,
          89.75,
          91.32,
          92.94,
          92.45,
          93.85,
          93.14,
          91.93,
          92.53,
          92.52,
          92.16,
          91,
          90.77,
          88.59,
          87.96,
          87.82,
          88.29,
          88.14,
          89.07,
          89.82,
          91.82,
          91.35,
          93.76,
          92.77,
          90.98,
          92.86,
          91.99,
          92.31,
          101.14,
          102.18,
          102.97,
          100.52,
          97.45,
          100.86,
          100.6,
          102.21,
          102.5,
          99.93,
          96.61,
          98.01,
          99.68,
          99.57,
          98.07,
          98.75,
          100.93,
          100.3,
          99.9,
          100.84,
          97.94,
          100.42,
          100.81,
          99.97,
          99.91,
          99.57,
          99.76,
          100.13,
          98.1,
          96.87,
          94.82,
          95.62,
          94.08,
          95.83,
          94.9,
          96.54,
          94.22,
          93.2,
          94.29,
          93.1,
          93.36,
          92.6,
          93.57,
          96.14,
          99.3,
          99.06,
          100.66,
          101.14,
          98.92,
          98.54,
          99.61,
          100.45,
          100.3,
          101.73,
          101.68,
          102.09,
          105.22,
          105.83,
          109.24,
          107.66,
          107.66,
          108.06,
          110.36,
          111.78,
          111.63,
          109.87,
          110.71,
          113.21,
          109.39,
          108.49,
          107.59,
          109.54,
          109.7,
          108.12,
          106,
          105.69,
          103.48,
          99.08,
          99.04,
          99.91,
          99.4,
          99.81,
          96.33,
          95.56,
          94.77,
          93.92,
          91.92,
          91.98,
          88.97,
          86.88,
          87.18,
          84.17,
          86.37,
          88.01,
          86.67,
          86.92,
          87.02,
          85.78,
          90.08,
          90.49,
          94.15,
          94.7,
          94.66,
          93.38,
          92.55,
          92.15,
          92.29,
          95.93,
          99.43,
          98.59,
          97.87,
          94.69,
          95.69,
          98.87,
          98.88,
          96.21,
          97.58,
          91.8,
          91.45,
          93.95,
          95.51,
          94.28,
          95.01,
          90.46,
          86.75,
          99.9,
          100.43,
          99.58,
          99.25,
          101.82,
          106,
          106.54,
          105.95,
          104.44,
          104.63,
          104.36,
          101.72,
          102.04,
          98.59
         ]
        }
       ],
       "layout": {
        "template": {
         "data": {
          "bar": [
           {
            "error_x": {
             "color": "#2a3f5f"
            },
            "error_y": {
             "color": "#2a3f5f"
            },
            "marker": {
             "line": {
              "color": "#E5ECF6",
              "width": 0.5
             },
             "pattern": {
              "fillmode": "overlay",
              "size": 10,
              "solidity": 0.2
             }
            },
            "type": "bar"
           }
          ],
          "barpolar": [
           {
            "marker": {
             "line": {
              "color": "#E5ECF6",
              "width": 0.5
             },
             "pattern": {
              "fillmode": "overlay",
              "size": 10,
              "solidity": 0.2
             }
            },
            "type": "barpolar"
           }
          ],
          "carpet": [
           {
            "aaxis": {
             "endlinecolor": "#2a3f5f",
             "gridcolor": "white",
             "linecolor": "white",
             "minorgridcolor": "white",
             "startlinecolor": "#2a3f5f"
            },
            "baxis": {
             "endlinecolor": "#2a3f5f",
             "gridcolor": "white",
             "linecolor": "white",
             "minorgridcolor": "white",
             "startlinecolor": "#2a3f5f"
            },
            "type": "carpet"
           }
          ],
          "choropleth": [
           {
            "colorbar": {
             "outlinewidth": 0,
             "ticks": ""
            },
            "type": "choropleth"
           }
          ],
          "contour": [
           {
            "colorbar": {
             "outlinewidth": 0,
             "ticks": ""
            },
            "colorscale": [
             [
              0,
              "#0d0887"
             ],
             [
              0.1111111111111111,
              "#46039f"
             ],
             [
              0.2222222222222222,
              "#7201a8"
             ],
             [
              0.3333333333333333,
              "#9c179e"
             ],
             [
              0.4444444444444444,
              "#bd3786"
             ],
             [
              0.5555555555555556,
              "#d8576b"
             ],
             [
              0.6666666666666666,
              "#ed7953"
             ],
             [
              0.7777777777777778,
              "#fb9f3a"
             ],
             [
              0.8888888888888888,
              "#fdca26"
             ],
             [
              1,
              "#f0f921"
             ]
            ],
            "type": "contour"
           }
          ],
          "contourcarpet": [
           {
            "colorbar": {
             "outlinewidth": 0,
             "ticks": ""
            },
            "type": "contourcarpet"
           }
          ],
          "heatmap": [
           {
            "colorbar": {
             "outlinewidth": 0,
             "ticks": ""
            },
            "colorscale": [
             [
              0,
              "#0d0887"
             ],
             [
              0.1111111111111111,
              "#46039f"
             ],
             [
              0.2222222222222222,
              "#7201a8"
             ],
             [
              0.3333333333333333,
              "#9c179e"
             ],
             [
              0.4444444444444444,
              "#bd3786"
             ],
             [
              0.5555555555555556,
              "#d8576b"
             ],
             [
              0.6666666666666666,
              "#ed7953"
             ],
             [
              0.7777777777777778,
              "#fb9f3a"
             ],
             [
              0.8888888888888888,
              "#fdca26"
             ],
             [
              1,
              "#f0f921"
             ]
            ],
            "type": "heatmap"
           }
          ],
          "heatmapgl": [
           {
            "colorbar": {
             "outlinewidth": 0,
             "ticks": ""
            },
            "colorscale": [
             [
              0,
              "#0d0887"
             ],
             [
              0.1111111111111111,
              "#46039f"
             ],
             [
              0.2222222222222222,
              "#7201a8"
             ],
             [
              0.3333333333333333,
              "#9c179e"
             ],
             [
              0.4444444444444444,
              "#bd3786"
             ],
             [
              0.5555555555555556,
              "#d8576b"
             ],
             [
              0.6666666666666666,
              "#ed7953"
             ],
             [
              0.7777777777777778,
              "#fb9f3a"
             ],
             [
              0.8888888888888888,
              "#fdca26"
             ],
             [
              1,
              "#f0f921"
             ]
            ],
            "type": "heatmapgl"
           }
          ],
          "histogram": [
           {
            "marker": {
             "pattern": {
              "fillmode": "overlay",
              "size": 10,
              "solidity": 0.2
             }
            },
            "type": "histogram"
           }
          ],
          "histogram2d": [
           {
            "colorbar": {
             "outlinewidth": 0,
             "ticks": ""
            },
            "colorscale": [
             [
              0,
              "#0d0887"
             ],
             [
              0.1111111111111111,
              "#46039f"
             ],
             [
              0.2222222222222222,
              "#7201a8"
             ],
             [
              0.3333333333333333,
              "#9c179e"
             ],
             [
              0.4444444444444444,
              "#bd3786"
             ],
             [
              0.5555555555555556,
              "#d8576b"
             ],
             [
              0.6666666666666666,
              "#ed7953"
             ],
             [
              0.7777777777777778,
              "#fb9f3a"
             ],
             [
              0.8888888888888888,
              "#fdca26"
             ],
             [
              1,
              "#f0f921"
             ]
            ],
            "type": "histogram2d"
           }
          ],
          "histogram2dcontour": [
           {
            "colorbar": {
             "outlinewidth": 0,
             "ticks": ""
            },
            "colorscale": [
             [
              0,
              "#0d0887"
             ],
             [
              0.1111111111111111,
              "#46039f"
             ],
             [
              0.2222222222222222,
              "#7201a8"
             ],
             [
              0.3333333333333333,
              "#9c179e"
             ],
             [
              0.4444444444444444,
              "#bd3786"
             ],
             [
              0.5555555555555556,
              "#d8576b"
             ],
             [
              0.6666666666666666,
              "#ed7953"
             ],
             [
              0.7777777777777778,
              "#fb9f3a"
             ],
             [
              0.8888888888888888,
              "#fdca26"
             ],
             [
              1,
              "#f0f921"
             ]
            ],
            "type": "histogram2dcontour"
           }
          ],
          "mesh3d": [
           {
            "colorbar": {
             "outlinewidth": 0,
             "ticks": ""
            },
            "type": "mesh3d"
           }
          ],
          "parcoords": [
           {
            "line": {
             "colorbar": {
              "outlinewidth": 0,
              "ticks": ""
             }
            },
            "type": "parcoords"
           }
          ],
          "pie": [
           {
            "automargin": true,
            "type": "pie"
           }
          ],
          "scatter": [
           {
            "fillpattern": {
             "fillmode": "overlay",
             "size": 10,
             "solidity": 0.2
            },
            "type": "scatter"
           }
          ],
          "scatter3d": [
           {
            "line": {
             "colorbar": {
              "outlinewidth": 0,
              "ticks": ""
             }
            },
            "marker": {
             "colorbar": {
              "outlinewidth": 0,
              "ticks": ""
             }
            },
            "type": "scatter3d"
           }
          ],
          "scattercarpet": [
           {
            "marker": {
             "colorbar": {
              "outlinewidth": 0,
              "ticks": ""
             }
            },
            "type": "scattercarpet"
           }
          ],
          "scattergeo": [
           {
            "marker": {
             "colorbar": {
              "outlinewidth": 0,
              "ticks": ""
             }
            },
            "type": "scattergeo"
           }
          ],
          "scattergl": [
           {
            "marker": {
             "colorbar": {
              "outlinewidth": 0,
              "ticks": ""
             }
            },
            "type": "scattergl"
           }
          ],
          "scattermapbox": [
           {
            "marker": {
             "colorbar": {
              "outlinewidth": 0,
              "ticks": ""
             }
            },
            "type": "scattermapbox"
           }
          ],
          "scatterpolar": [
           {
            "marker": {
             "colorbar": {
              "outlinewidth": 0,
              "ticks": ""
             }
            },
            "type": "scatterpolar"
           }
          ],
          "scatterpolargl": [
           {
            "marker": {
             "colorbar": {
              "outlinewidth": 0,
              "ticks": ""
             }
            },
            "type": "scatterpolargl"
           }
          ],
          "scatterternary": [
           {
            "marker": {
             "colorbar": {
              "outlinewidth": 0,
              "ticks": ""
             }
            },
            "type": "scatterternary"
           }
          ],
          "surface": [
           {
            "colorbar": {
             "outlinewidth": 0,
             "ticks": ""
            },
            "colorscale": [
             [
              0,
              "#0d0887"
             ],
             [
              0.1111111111111111,
              "#46039f"
             ],
             [
              0.2222222222222222,
              "#7201a8"
             ],
             [
              0.3333333333333333,
              "#9c179e"
             ],
             [
              0.4444444444444444,
              "#bd3786"
             ],
             [
              0.5555555555555556,
              "#d8576b"
             ],
             [
              0.6666666666666666,
              "#ed7953"
             ],
             [
              0.7777777777777778,
              "#fb9f3a"
             ],
             [
              0.8888888888888888,
              "#fdca26"
             ],
             [
              1,
              "#f0f921"
             ]
            ],
            "type": "surface"
           }
          ],
          "table": [
           {
            "cells": {
             "fill": {
              "color": "#EBF0F8"
             },
             "line": {
              "color": "white"
             }
            },
            "header": {
             "fill": {
              "color": "#C8D4E3"
             },
             "line": {
              "color": "white"
             }
            },
            "type": "table"
           }
          ]
         },
         "layout": {
          "annotationdefaults": {
           "arrowcolor": "#2a3f5f",
           "arrowhead": 0,
           "arrowwidth": 1
          },
          "autotypenumbers": "strict",
          "coloraxis": {
           "colorbar": {
            "outlinewidth": 0,
            "ticks": ""
           }
          },
          "colorscale": {
           "diverging": [
            [
             0,
             "#8e0152"
            ],
            [
             0.1,
             "#c51b7d"
            ],
            [
             0.2,
             "#de77ae"
            ],
            [
             0.3,
             "#f1b6da"
            ],
            [
             0.4,
             "#fde0ef"
            ],
            [
             0.5,
             "#f7f7f7"
            ],
            [
             0.6,
             "#e6f5d0"
            ],
            [
             0.7,
             "#b8e186"
            ],
            [
             0.8,
             "#7fbc41"
            ],
            [
             0.9,
             "#4d9221"
            ],
            [
             1,
             "#276419"
            ]
           ],
           "sequential": [
            [
             0,
             "#0d0887"
            ],
            [
             0.1111111111111111,
             "#46039f"
            ],
            [
             0.2222222222222222,
             "#7201a8"
            ],
            [
             0.3333333333333333,
             "#9c179e"
            ],
            [
             0.4444444444444444,
             "#bd3786"
            ],
            [
             0.5555555555555556,
             "#d8576b"
            ],
            [
             0.6666666666666666,
             "#ed7953"
            ],
            [
             0.7777777777777778,
             "#fb9f3a"
            ],
            [
             0.8888888888888888,
             "#fdca26"
            ],
            [
             1,
             "#f0f921"
            ]
           ],
           "sequentialminus": [
            [
             0,
             "#0d0887"
            ],
            [
             0.1111111111111111,
             "#46039f"
            ],
            [
             0.2222222222222222,
             "#7201a8"
            ],
            [
             0.3333333333333333,
             "#9c179e"
            ],
            [
             0.4444444444444444,
             "#bd3786"
            ],
            [
             0.5555555555555556,
             "#d8576b"
            ],
            [
             0.6666666666666666,
             "#ed7953"
            ],
            [
             0.7777777777777778,
             "#fb9f3a"
            ],
            [
             0.8888888888888888,
             "#fdca26"
            ],
            [
             1,
             "#f0f921"
            ]
           ]
          },
          "colorway": [
           "#636efa",
           "#EF553B",
           "#00cc96",
           "#ab63fa",
           "#FFA15A",
           "#19d3f3",
           "#FF6692",
           "#B6E880",
           "#FF97FF",
           "#FECB52"
          ],
          "font": {
           "color": "#2a3f5f"
          },
          "geo": {
           "bgcolor": "white",
           "lakecolor": "white",
           "landcolor": "#E5ECF6",
           "showlakes": true,
           "showland": true,
           "subunitcolor": "white"
          },
          "hoverlabel": {
           "align": "left"
          },
          "hovermode": "closest",
          "mapbox": {
           "style": "light"
          },
          "paper_bgcolor": "white",
          "plot_bgcolor": "#E5ECF6",
          "polar": {
           "angularaxis": {
            "gridcolor": "white",
            "linecolor": "white",
            "ticks": ""
           },
           "bgcolor": "#E5ECF6",
           "radialaxis": {
            "gridcolor": "white",
            "linecolor": "white",
            "ticks": ""
           }
          },
          "scene": {
           "xaxis": {
            "backgroundcolor": "#E5ECF6",
            "gridcolor": "white",
            "gridwidth": 2,
            "linecolor": "white",
            "showbackground": true,
            "ticks": "",
            "zerolinecolor": "white"
           },
           "yaxis": {
            "backgroundcolor": "#E5ECF6",
            "gridcolor": "white",
            "gridwidth": 2,
            "linecolor": "white",
            "showbackground": true,
            "ticks": "",
            "zerolinecolor": "white"
           },
           "zaxis": {
            "backgroundcolor": "#E5ECF6",
            "gridcolor": "white",
            "gridwidth": 2,
            "linecolor": "white",
            "showbackground": true,
            "ticks": "",
            "zerolinecolor": "white"
           }
          },
          "shapedefaults": {
           "line": {
            "color": "#2a3f5f"
           }
          },
          "ternary": {
           "aaxis": {
            "gridcolor": "white",
            "linecolor": "white",
            "ticks": ""
           },
           "baxis": {
            "gridcolor": "white",
            "linecolor": "white",
            "ticks": ""
           },
           "bgcolor": "#E5ECF6",
           "caxis": {
            "gridcolor": "white",
            "linecolor": "white",
            "ticks": ""
           }
          },
          "title": {
           "x": 0.05
          },
          "xaxis": {
           "automargin": true,
           "gridcolor": "white",
           "linecolor": "white",
           "ticks": "",
           "title": {
            "standoff": 15
           },
           "zerolinecolor": "white",
           "zerolinewidth": 2
          },
          "yaxis": {
           "automargin": true,
           "gridcolor": "white",
           "linecolor": "white",
           "ticks": "",
           "title": {
            "standoff": 15
           },
           "zerolinecolor": "white",
           "zerolinewidth": 2
          }
         }
        },
        "title": {
         "text": "Stock Prices of Disney"
        },
        "xaxis": {
         "title": {
          "font": {
           "color": "#7f7f7f",
           "family": "Courier New, monospace",
           "size": 18
          },
          "text": "Date"
         }
        },
        "yaxis": {
         "title": {
          "font": {
           "color": "#7f7f7f",
           "family": "Courier New, monospace",
           "size": 18
          },
          "text": "Price"
         }
        }
       }
      },
      "text/html": [
       "<div>                            <div id=\"8779aadb-5560-4795-ab33-67414c1e47e6\" class=\"plotly-graph-div\" style=\"height:525px; width:100%;\"></div>            <script type=\"text/javascript\">                require([\"plotly\"], function(Plotly) {                    window.PLOTLYENV=window.PLOTLYENV || {};                                    if (document.getElementById(\"8779aadb-5560-4795-ab33-67414c1e47e6\")) {                    Plotly.newPlot(                        \"8779aadb-5560-4795-ab33-67414c1e47e6\",                        [{\"x\":[\"2023-10-20T00:00:00\",\"2023-10-19T00:00:00\",\"2023-10-18T00:00:00\",\"2023-10-17T00:00:00\",\"2023-10-16T00:00:00\",\"2023-10-13T00:00:00\",\"2023-10-12T00:00:00\",\"2023-10-11T00:00:00\",\"2023-10-10T00:00:00\",\"2023-10-09T00:00:00\",\"2023-10-06T00:00:00\",\"2023-10-05T00:00:00\",\"2023-10-04T00:00:00\",\"2023-10-03T00:00:00\",\"2023-10-02T00:00:00\",\"2023-09-29T00:00:00\",\"2023-09-28T00:00:00\",\"2023-09-27T00:00:00\",\"2023-09-26T00:00:00\",\"2023-09-25T00:00:00\",\"2023-09-22T00:00:00\",\"2023-09-21T00:00:00\",\"2023-09-20T00:00:00\",\"2023-09-19T00:00:00\",\"2023-09-18T00:00:00\",\"2023-09-15T00:00:00\",\"2023-09-14T00:00:00\",\"2023-09-13T00:00:00\",\"2023-09-12T00:00:00\",\"2023-09-11T00:00:00\",\"2023-09-08T00:00:00\",\"2023-09-07T00:00:00\",\"2023-09-06T00:00:00\",\"2023-09-05T00:00:00\",\"2023-09-01T00:00:00\",\"2023-08-31T00:00:00\",\"2023-08-30T00:00:00\",\"2023-08-29T00:00:00\",\"2023-08-28T00:00:00\",\"2023-08-25T00:00:00\",\"2023-08-24T00:00:00\",\"2023-08-23T00:00:00\",\"2023-08-22T00:00:00\",\"2023-08-21T00:00:00\",\"2023-08-18T00:00:00\",\"2023-08-17T00:00:00\",\"2023-08-16T00:00:00\",\"2023-08-15T00:00:00\",\"2023-08-14T00:00:00\",\"2023-08-11T00:00:00\",\"2023-08-10T00:00:00\",\"2023-08-09T00:00:00\",\"2023-08-08T00:00:00\",\"2023-08-07T00:00:00\",\"2023-08-04T00:00:00\",\"2023-08-03T00:00:00\",\"2023-08-02T00:00:00\",\"2023-08-01T00:00:00\",\"2023-07-31T00:00:00\",\"2023-07-28T00:00:00\",\"2023-07-27T00:00:00\",\"2023-07-26T00:00:00\",\"2023-07-25T00:00:00\",\"2023-07-24T00:00:00\",\"2023-07-21T00:00:00\",\"2023-07-20T00:00:00\",\"2023-07-19T00:00:00\",\"2023-07-18T00:00:00\",\"2023-07-17T00:00:00\",\"2023-07-14T00:00:00\",\"2023-07-13T00:00:00\",\"2023-07-12T00:00:00\",\"2023-07-11T00:00:00\",\"2023-07-10T00:00:00\",\"2023-07-07T00:00:00\",\"2023-07-06T00:00:00\",\"2023-07-05T00:00:00\",\"2023-07-03T00:00:00\",\"2023-06-30T00:00:00\",\"2023-06-29T00:00:00\",\"2023-06-28T00:00:00\",\"2023-06-27T00:00:00\",\"2023-06-26T00:00:00\",\"2023-06-23T00:00:00\",\"2023-06-22T00:00:00\",\"2023-06-21T00:00:00\",\"2023-06-20T00:00:00\",\"2023-06-16T00:00:00\",\"2023-06-15T00:00:00\",\"2023-06-14T00:00:00\",\"2023-06-13T00:00:00\",\"2023-06-12T00:00:00\",\"2023-06-09T00:00:00\",\"2023-06-08T00:00:00\",\"2023-06-07T00:00:00\",\"2023-06-06T00:00:00\",\"2023-06-05T00:00:00\",\"2023-06-02T00:00:00\",\"2023-06-01T00:00:00\",\"2023-05-31T00:00:00\",\"2023-05-30T00:00:00\",\"2023-05-26T00:00:00\",\"2023-05-25T00:00:00\",\"2023-05-24T00:00:00\",\"2023-05-23T00:00:00\",\"2023-05-22T00:00:00\",\"2023-05-19T00:00:00\",\"2023-05-18T00:00:00\",\"2023-05-17T00:00:00\",\"2023-05-16T00:00:00\",\"2023-05-15T00:00:00\",\"2023-05-12T00:00:00\",\"2023-05-11T00:00:00\",\"2023-05-10T00:00:00\",\"2023-05-09T00:00:00\",\"2023-05-08T00:00:00\",\"2023-05-05T00:00:00\",\"2023-05-04T00:00:00\",\"2023-05-03T00:00:00\",\"2023-05-02T00:00:00\",\"2023-05-01T00:00:00\",\"2023-04-28T00:00:00\",\"2023-04-27T00:00:00\",\"2023-04-26T00:00:00\",\"2023-04-25T00:00:00\",\"2023-04-24T00:00:00\",\"2023-04-21T00:00:00\",\"2023-04-20T00:00:00\",\"2023-04-19T00:00:00\",\"2023-04-18T00:00:00\",\"2023-04-17T00:00:00\",\"2023-04-14T00:00:00\",\"2023-04-13T00:00:00\",\"2023-04-12T00:00:00\",\"2023-04-11T00:00:00\",\"2023-04-10T00:00:00\",\"2023-04-06T00:00:00\",\"2023-04-05T00:00:00\",\"2023-04-04T00:00:00\",\"2023-04-03T00:00:00\",\"2023-03-31T00:00:00\",\"2023-03-30T00:00:00\",\"2023-03-29T00:00:00\",\"2023-03-28T00:00:00\",\"2023-03-27T00:00:00\",\"2023-03-24T00:00:00\",\"2023-03-23T00:00:00\",\"2023-03-22T00:00:00\",\"2023-03-21T00:00:00\",\"2023-03-20T00:00:00\",\"2023-03-17T00:00:00\",\"2023-03-16T00:00:00\",\"2023-03-15T00:00:00\",\"2023-03-14T00:00:00\",\"2023-03-13T00:00:00\",\"2023-03-10T00:00:00\",\"2023-03-09T00:00:00\",\"2023-03-08T00:00:00\",\"2023-03-07T00:00:00\",\"2023-03-06T00:00:00\",\"2023-03-03T00:00:00\",\"2023-03-02T00:00:00\",\"2023-03-01T00:00:00\",\"2023-02-28T00:00:00\",\"2023-02-27T00:00:00\",\"2023-02-24T00:00:00\",\"2023-02-23T00:00:00\",\"2023-02-22T00:00:00\",\"2023-02-21T00:00:00\",\"2023-02-17T00:00:00\",\"2023-02-16T00:00:00\",\"2023-02-15T00:00:00\",\"2023-02-14T00:00:00\",\"2023-02-13T00:00:00\",\"2023-02-10T00:00:00\",\"2023-02-09T00:00:00\",\"2023-02-08T00:00:00\",\"2023-02-07T00:00:00\",\"2023-02-06T00:00:00\",\"2023-02-03T00:00:00\",\"2023-02-02T00:00:00\",\"2023-02-01T00:00:00\",\"2023-01-31T00:00:00\",\"2023-01-30T00:00:00\",\"2023-01-27T00:00:00\",\"2023-01-26T00:00:00\",\"2023-01-25T00:00:00\",\"2023-01-24T00:00:00\",\"2023-01-23T00:00:00\",\"2023-01-20T00:00:00\",\"2023-01-19T00:00:00\",\"2023-01-18T00:00:00\",\"2023-01-17T00:00:00\",\"2023-01-13T00:00:00\",\"2023-01-12T00:00:00\",\"2023-01-11T00:00:00\",\"2023-01-10T00:00:00\",\"2023-01-09T00:00:00\",\"2023-01-06T00:00:00\",\"2023-01-05T00:00:00\",\"2023-01-04T00:00:00\",\"2023-01-03T00:00:00\",\"2022-12-30T00:00:00\",\"2022-12-29T00:00:00\",\"2022-12-28T00:00:00\",\"2022-12-27T00:00:00\",\"2022-12-23T00:00:00\",\"2022-12-22T00:00:00\",\"2022-12-21T00:00:00\",\"2022-12-20T00:00:00\",\"2022-12-19T00:00:00\",\"2022-12-16T00:00:00\",\"2022-12-15T00:00:00\",\"2022-12-14T00:00:00\",\"2022-12-13T00:00:00\",\"2022-12-12T00:00:00\",\"2022-12-09T00:00:00\",\"2022-12-08T00:00:00\",\"2022-12-07T00:00:00\",\"2022-12-06T00:00:00\",\"2022-12-05T00:00:00\",\"2022-12-02T00:00:00\",\"2022-12-01T00:00:00\",\"2022-11-30T00:00:00\",\"2022-11-29T00:00:00\",\"2022-11-28T00:00:00\",\"2022-11-25T00:00:00\",\"2022-11-23T00:00:00\",\"2022-11-22T00:00:00\",\"2022-11-21T00:00:00\",\"2022-11-18T00:00:00\",\"2022-11-17T00:00:00\",\"2022-11-16T00:00:00\",\"2022-11-15T00:00:00\",\"2022-11-14T00:00:00\",\"2022-11-11T00:00:00\",\"2022-11-10T00:00:00\",\"2022-11-09T00:00:00\",\"2022-11-08T00:00:00\",\"2022-11-07T00:00:00\",\"2022-11-04T00:00:00\",\"2022-11-03T00:00:00\",\"2022-11-02T00:00:00\",\"2022-11-01T00:00:00\",\"2022-10-31T00:00:00\",\"2022-10-28T00:00:00\",\"2022-10-27T00:00:00\",\"2022-10-26T00:00:00\",\"2022-10-25T00:00:00\",\"2022-10-24T00:00:00\",\"2022-10-21T00:00:00\",\"2022-10-20T00:00:00\"],\"y\":[82.65,83.25,84.68,86.2,85.71,84.35,84.35,84.85,84.99,84.7,82.94,80.81,79.32,79.54,81.67,81.05,80.13,79.9,80.05,81.01,81.25,82.73,82.56,81.94,85.02,85.58,84.48,83.48,83.68,82.52,81.58,80.57,80.98,81.19,81.64,83.68,84.28,84.4,84.16,83.36,82.47,85.83,85.79,85.88,85.96,85.92,86.35,87.06,88.81,89.02,91.76,87.49,88.13,86.83,86.3,85.49,86.3,89.03,88.89,86.13,85.36,85.86,85.63,86.6,87.18,86.21,87.04,85.95,85.56,88.62,90.47,90.15,89.49,88.1,88.64,88.74,89.79,90.5,89.28,88.95,88.83,89.06,88.7,88.1,88.49,88.64,89.75,91.32,92.94,92.45,93.85,93.14,91.93,92.53,92.52,92.16,91.0,90.77,88.59,87.96,87.82,88.29,88.14,89.07,89.82,91.82,91.35,93.76,92.77,90.98,92.86,91.99,92.31,101.14,102.18,102.97,100.52,97.45,100.86,100.6,102.21,102.5,99.93,96.61,98.01,99.68,99.57,98.07,98.75,100.93,100.3,99.9,100.84,97.94,100.42,100.81,99.97,99.91,99.57,99.76,100.13,98.1,96.87,94.82,95.62,94.08,95.83,94.9,96.54,94.22,93.2,94.29,93.1,93.36,92.6,93.57,96.14,99.3,99.06,100.66,101.14,98.92,98.54,99.61,100.45,100.3,101.73,101.68,102.09,105.22,105.83,109.24,107.66,107.66,108.06,110.36,111.78,111.63,109.87,110.71,113.21,109.39,108.49,107.59,109.54,109.7,108.12,106.0,105.69,103.48,99.08,99.04,99.91,99.4,99.81,96.33,95.56,94.77,93.92,91.92,91.98,88.97,86.88,87.18,84.17,86.37,88.01,86.67,86.92,87.02,85.78,90.08,90.49,94.15,94.7,94.66,93.38,92.55,92.15,92.29,95.93,99.43,98.59,97.87,94.69,95.69,98.87,98.88,96.21,97.58,91.8,91.45,93.95,95.51,94.28,95.01,90.46,86.75,99.9,100.43,99.58,99.25,101.82,106.0,106.54,105.95,104.44,104.63,104.36,101.72,102.04,98.59],\"type\":\"scatter\"}],                        {\"template\":{\"data\":{\"barpolar\":[{\"marker\":{\"line\":{\"color\":\"#E5ECF6\",\"width\":0.5},\"pattern\":{\"fillmode\":\"overlay\",\"size\":10,\"solidity\":0.2}},\"type\":\"barpolar\"}],\"bar\":[{\"error_x\":{\"color\":\"#2a3f5f\"},\"error_y\":{\"color\":\"#2a3f5f\"},\"marker\":{\"line\":{\"color\":\"#E5ECF6\",\"width\":0.5},\"pattern\":{\"fillmode\":\"overlay\",\"size\":10,\"solidity\":0.2}},\"type\":\"bar\"}],\"carpet\":[{\"aaxis\":{\"endlinecolor\":\"#2a3f5f\",\"gridcolor\":\"white\",\"linecolor\":\"white\",\"minorgridcolor\":\"white\",\"startlinecolor\":\"#2a3f5f\"},\"baxis\":{\"endlinecolor\":\"#2a3f5f\",\"gridcolor\":\"white\",\"linecolor\":\"white\",\"minorgridcolor\":\"white\",\"startlinecolor\":\"#2a3f5f\"},\"type\":\"carpet\"}],\"choropleth\":[{\"colorbar\":{\"outlinewidth\":0,\"ticks\":\"\"},\"type\":\"choropleth\"}],\"contourcarpet\":[{\"colorbar\":{\"outlinewidth\":0,\"ticks\":\"\"},\"type\":\"contourcarpet\"}],\"contour\":[{\"colorbar\":{\"outlinewidth\":0,\"ticks\":\"\"},\"colorscale\":[[0.0,\"#0d0887\"],[0.1111111111111111,\"#46039f\"],[0.2222222222222222,\"#7201a8\"],[0.3333333333333333,\"#9c179e\"],[0.4444444444444444,\"#bd3786\"],[0.5555555555555556,\"#d8576b\"],[0.6666666666666666,\"#ed7953\"],[0.7777777777777778,\"#fb9f3a\"],[0.8888888888888888,\"#fdca26\"],[1.0,\"#f0f921\"]],\"type\":\"contour\"}],\"heatmapgl\":[{\"colorbar\":{\"outlinewidth\":0,\"ticks\":\"\"},\"colorscale\":[[0.0,\"#0d0887\"],[0.1111111111111111,\"#46039f\"],[0.2222222222222222,\"#7201a8\"],[0.3333333333333333,\"#9c179e\"],[0.4444444444444444,\"#bd3786\"],[0.5555555555555556,\"#d8576b\"],[0.6666666666666666,\"#ed7953\"],[0.7777777777777778,\"#fb9f3a\"],[0.8888888888888888,\"#fdca26\"],[1.0,\"#f0f921\"]],\"type\":\"heatmapgl\"}],\"heatmap\":[{\"colorbar\":{\"outlinewidth\":0,\"ticks\":\"\"},\"colorscale\":[[0.0,\"#0d0887\"],[0.1111111111111111,\"#46039f\"],[0.2222222222222222,\"#7201a8\"],[0.3333333333333333,\"#9c179e\"],[0.4444444444444444,\"#bd3786\"],[0.5555555555555556,\"#d8576b\"],[0.6666666666666666,\"#ed7953\"],[0.7777777777777778,\"#fb9f3a\"],[0.8888888888888888,\"#fdca26\"],[1.0,\"#f0f921\"]],\"type\":\"heatmap\"}],\"histogram2dcontour\":[{\"colorbar\":{\"outlinewidth\":0,\"ticks\":\"\"},\"colorscale\":[[0.0,\"#0d0887\"],[0.1111111111111111,\"#46039f\"],[0.2222222222222222,\"#7201a8\"],[0.3333333333333333,\"#9c179e\"],[0.4444444444444444,\"#bd3786\"],[0.5555555555555556,\"#d8576b\"],[0.6666666666666666,\"#ed7953\"],[0.7777777777777778,\"#fb9f3a\"],[0.8888888888888888,\"#fdca26\"],[1.0,\"#f0f921\"]],\"type\":\"histogram2dcontour\"}],\"histogram2d\":[{\"colorbar\":{\"outlinewidth\":0,\"ticks\":\"\"},\"colorscale\":[[0.0,\"#0d0887\"],[0.1111111111111111,\"#46039f\"],[0.2222222222222222,\"#7201a8\"],[0.3333333333333333,\"#9c179e\"],[0.4444444444444444,\"#bd3786\"],[0.5555555555555556,\"#d8576b\"],[0.6666666666666666,\"#ed7953\"],[0.7777777777777778,\"#fb9f3a\"],[0.8888888888888888,\"#fdca26\"],[1.0,\"#f0f921\"]],\"type\":\"histogram2d\"}],\"histogram\":[{\"marker\":{\"pattern\":{\"fillmode\":\"overlay\",\"size\":10,\"solidity\":0.2}},\"type\":\"histogram\"}],\"mesh3d\":[{\"colorbar\":{\"outlinewidth\":0,\"ticks\":\"\"},\"type\":\"mesh3d\"}],\"parcoords\":[{\"line\":{\"colorbar\":{\"outlinewidth\":0,\"ticks\":\"\"}},\"type\":\"parcoords\"}],\"pie\":[{\"automargin\":true,\"type\":\"pie\"}],\"scatter3d\":[{\"line\":{\"colorbar\":{\"outlinewidth\":0,\"ticks\":\"\"}},\"marker\":{\"colorbar\":{\"outlinewidth\":0,\"ticks\":\"\"}},\"type\":\"scatter3d\"}],\"scattercarpet\":[{\"marker\":{\"colorbar\":{\"outlinewidth\":0,\"ticks\":\"\"}},\"type\":\"scattercarpet\"}],\"scattergeo\":[{\"marker\":{\"colorbar\":{\"outlinewidth\":0,\"ticks\":\"\"}},\"type\":\"scattergeo\"}],\"scattergl\":[{\"marker\":{\"colorbar\":{\"outlinewidth\":0,\"ticks\":\"\"}},\"type\":\"scattergl\"}],\"scattermapbox\":[{\"marker\":{\"colorbar\":{\"outlinewidth\":0,\"ticks\":\"\"}},\"type\":\"scattermapbox\"}],\"scatterpolargl\":[{\"marker\":{\"colorbar\":{\"outlinewidth\":0,\"ticks\":\"\"}},\"type\":\"scatterpolargl\"}],\"scatterpolar\":[{\"marker\":{\"colorbar\":{\"outlinewidth\":0,\"ticks\":\"\"}},\"type\":\"scatterpolar\"}],\"scatter\":[{\"fillpattern\":{\"fillmode\":\"overlay\",\"size\":10,\"solidity\":0.2},\"type\":\"scatter\"}],\"scatterternary\":[{\"marker\":{\"colorbar\":{\"outlinewidth\":0,\"ticks\":\"\"}},\"type\":\"scatterternary\"}],\"surface\":[{\"colorbar\":{\"outlinewidth\":0,\"ticks\":\"\"},\"colorscale\":[[0.0,\"#0d0887\"],[0.1111111111111111,\"#46039f\"],[0.2222222222222222,\"#7201a8\"],[0.3333333333333333,\"#9c179e\"],[0.4444444444444444,\"#bd3786\"],[0.5555555555555556,\"#d8576b\"],[0.6666666666666666,\"#ed7953\"],[0.7777777777777778,\"#fb9f3a\"],[0.8888888888888888,\"#fdca26\"],[1.0,\"#f0f921\"]],\"type\":\"surface\"}],\"table\":[{\"cells\":{\"fill\":{\"color\":\"#EBF0F8\"},\"line\":{\"color\":\"white\"}},\"header\":{\"fill\":{\"color\":\"#C8D4E3\"},\"line\":{\"color\":\"white\"}},\"type\":\"table\"}]},\"layout\":{\"annotationdefaults\":{\"arrowcolor\":\"#2a3f5f\",\"arrowhead\":0,\"arrowwidth\":1},\"autotypenumbers\":\"strict\",\"coloraxis\":{\"colorbar\":{\"outlinewidth\":0,\"ticks\":\"\"}},\"colorscale\":{\"diverging\":[[0,\"#8e0152\"],[0.1,\"#c51b7d\"],[0.2,\"#de77ae\"],[0.3,\"#f1b6da\"],[0.4,\"#fde0ef\"],[0.5,\"#f7f7f7\"],[0.6,\"#e6f5d0\"],[0.7,\"#b8e186\"],[0.8,\"#7fbc41\"],[0.9,\"#4d9221\"],[1,\"#276419\"]],\"sequential\":[[0.0,\"#0d0887\"],[0.1111111111111111,\"#46039f\"],[0.2222222222222222,\"#7201a8\"],[0.3333333333333333,\"#9c179e\"],[0.4444444444444444,\"#bd3786\"],[0.5555555555555556,\"#d8576b\"],[0.6666666666666666,\"#ed7953\"],[0.7777777777777778,\"#fb9f3a\"],[0.8888888888888888,\"#fdca26\"],[1.0,\"#f0f921\"]],\"sequentialminus\":[[0.0,\"#0d0887\"],[0.1111111111111111,\"#46039f\"],[0.2222222222222222,\"#7201a8\"],[0.3333333333333333,\"#9c179e\"],[0.4444444444444444,\"#bd3786\"],[0.5555555555555556,\"#d8576b\"],[0.6666666666666666,\"#ed7953\"],[0.7777777777777778,\"#fb9f3a\"],[0.8888888888888888,\"#fdca26\"],[1.0,\"#f0f921\"]]},\"colorway\":[\"#636efa\",\"#EF553B\",\"#00cc96\",\"#ab63fa\",\"#FFA15A\",\"#19d3f3\",\"#FF6692\",\"#B6E880\",\"#FF97FF\",\"#FECB52\"],\"font\":{\"color\":\"#2a3f5f\"},\"geo\":{\"bgcolor\":\"white\",\"lakecolor\":\"white\",\"landcolor\":\"#E5ECF6\",\"showlakes\":true,\"showland\":true,\"subunitcolor\":\"white\"},\"hoverlabel\":{\"align\":\"left\"},\"hovermode\":\"closest\",\"mapbox\":{\"style\":\"light\"},\"paper_bgcolor\":\"white\",\"plot_bgcolor\":\"#E5ECF6\",\"polar\":{\"angularaxis\":{\"gridcolor\":\"white\",\"linecolor\":\"white\",\"ticks\":\"\"},\"bgcolor\":\"#E5ECF6\",\"radialaxis\":{\"gridcolor\":\"white\",\"linecolor\":\"white\",\"ticks\":\"\"}},\"scene\":{\"xaxis\":{\"backgroundcolor\":\"#E5ECF6\",\"gridcolor\":\"white\",\"gridwidth\":2,\"linecolor\":\"white\",\"showbackground\":true,\"ticks\":\"\",\"zerolinecolor\":\"white\"},\"yaxis\":{\"backgroundcolor\":\"#E5ECF6\",\"gridcolor\":\"white\",\"gridwidth\":2,\"linecolor\":\"white\",\"showbackground\":true,\"ticks\":\"\",\"zerolinecolor\":\"white\"},\"zaxis\":{\"backgroundcolor\":\"#E5ECF6\",\"gridcolor\":\"white\",\"gridwidth\":2,\"linecolor\":\"white\",\"showbackground\":true,\"ticks\":\"\",\"zerolinecolor\":\"white\"}},\"shapedefaults\":{\"line\":{\"color\":\"#2a3f5f\"}},\"ternary\":{\"aaxis\":{\"gridcolor\":\"white\",\"linecolor\":\"white\",\"ticks\":\"\"},\"baxis\":{\"gridcolor\":\"white\",\"linecolor\":\"white\",\"ticks\":\"\"},\"bgcolor\":\"#E5ECF6\",\"caxis\":{\"gridcolor\":\"white\",\"linecolor\":\"white\",\"ticks\":\"\"}},\"title\":{\"x\":0.05},\"xaxis\":{\"automargin\":true,\"gridcolor\":\"white\",\"linecolor\":\"white\",\"ticks\":\"\",\"title\":{\"standoff\":15},\"zerolinecolor\":\"white\",\"zerolinewidth\":2},\"yaxis\":{\"automargin\":true,\"gridcolor\":\"white\",\"linecolor\":\"white\",\"ticks\":\"\",\"title\":{\"standoff\":15},\"zerolinecolor\":\"white\",\"zerolinewidth\":2}}},\"title\":{\"text\":\"Stock Prices of Disney\"},\"xaxis\":{\"title\":{\"font\":{\"color\":\"#7f7f7f\",\"family\":\"Courier New, monospace\",\"size\":18},\"text\":\"Date\"}},\"yaxis\":{\"title\":{\"font\":{\"color\":\"#7f7f7f\",\"family\":\"Courier New, monospace\",\"size\":18},\"text\":\"Price\"}}},                        {\"responsive\": true}                    ).then(function(){\n",
       "                            \n",
       "var gd = document.getElementById('8779aadb-5560-4795-ab33-67414c1e47e6');\n",
       "var x = new MutationObserver(function (mutations, observer) {{\n",
       "        var display = window.getComputedStyle(gd).display;\n",
       "        if (!display || display === 'none') {{\n",
       "            console.log([gd, 'removed!']);\n",
       "            Plotly.purge(gd);\n",
       "            observer.disconnect();\n",
       "        }}\n",
       "}});\n",
       "\n",
       "// Listen for the removal of the full notebook cells\n",
       "var notebookContainer = gd.closest('#notebook-container');\n",
       "if (notebookContainer) {{\n",
       "    x.observe(notebookContainer, {childList: true});\n",
       "}}\n",
       "\n",
       "// Listen for the clearing of the current output cell\n",
       "var outputEl = gd.closest('.output');\n",
       "if (outputEl) {{\n",
       "    x.observe(outputEl, {childList: true});\n",
       "}}\n",
       "\n",
       "                        })                };                });            </script>        </div>"
      ]
     },
     "metadata": {},
     "output_type": "display_data"
    }
   ],
   "source": [
    "iplot(plot)"
   ]
  },
  {
   "cell_type": "code",
   "execution_count": 192,
   "metadata": {},
   "outputs": [],
   "source": [
    "# Building the regression model\n",
    "from sklearn.model_selection import train_test_split\n",
    "\n",
    "#For preprocessing\n",
    "from sklearn.preprocessing import MinMaxScaler\n",
    "from sklearn.preprocessing import StandardScaler\n",
    "\n",
    "#For model evaluation\n",
    "from sklearn.metrics import mean_squared_error as mse\n",
    "from sklearn.metrics import r2_score"
   ]
  },
  {
   "cell_type": "code",
   "execution_count": 193,
   "metadata": {},
   "outputs": [],
   "source": [
    "#Split the data into train and test sets\n",
    "X = np.array(Disney.index).reshape(-1,1)\n",
    "Y = Disney['Close']\n",
    "X_train, X_test, Y_train, Y_test = train_test_split(X, Y, test_size=0.3, random_state=101)"
   ]
  },
  {
   "cell_type": "code",
   "execution_count": 194,
   "metadata": {},
   "outputs": [],
   "source": [
    "# Feature scaling\n",
    "scaler = StandardScaler().fit(X_train)"
   ]
  },
  {
   "cell_type": "code",
   "execution_count": 195,
   "metadata": {},
   "outputs": [],
   "source": [
    "from sklearn.linear_model import LinearRegression"
   ]
  },
  {
   "cell_type": "code",
   "execution_count": 196,
   "metadata": {},
   "outputs": [
    {
     "data": {
      "text/plain": [
       "LinearRegression(copy_X=True, fit_intercept=True, n_jobs=None, normalize=False)"
      ]
     },
     "execution_count": 196,
     "metadata": {},
     "output_type": "execute_result"
    }
   ],
   "source": [
    "#Creating a linear model\n",
    "lm = LinearRegression()\n",
    "lm.fit(X_train, Y_train)"
   ]
  },
  {
   "cell_type": "code",
   "execution_count": 197,
   "metadata": {},
   "outputs": [],
   "source": [
    "#Plot actual and predicted values for train dataset\n",
    "trace0 = go.Scatter(\n",
    "    x = X_train.T[0],\n",
    "    y = Y_train,\n",
    "    mode = 'markers',\n",
    "    name = 'Actual'\n",
    ")\n",
    "trace1 = go.Scatter(\n",
    "    x = X_train.T[0],\n",
    "    y = lm.predict(X_train).T,\n",
    "    mode = 'lines',\n",
    "    name = 'Predicted'\n",
    ")\n",
    "Disney_data = [trace0,trace1]\n",
    "layout.xaxis.title.text = 'Day'\n",
    "plot2 = go.Figure(data=Disney_data, layout=layout)"
   ]
  },
  {
   "cell_type": "code",
   "execution_count": 198,
   "metadata": {},
   "outputs": [
    {
     "data": {
      "application/vnd.plotly.v1+json": {
       "config": {
        "linkText": "Export to plot.ly",
        "plotlyServerURL": "https://plot.ly",
        "showLink": false
       },
       "data": [
        {
         "mode": "markers",
         "name": "Actual",
         "type": "scatter",
         "x": [
          54,
          66,
          215,
          171,
          141,
          57,
          208,
          178,
          150,
          248,
          16,
          166,
          145,
          129,
          186,
          160,
          175,
          51,
          18,
          61,
          214,
          68,
          79,
          1,
          43,
          67,
          118,
          9,
          198,
          36,
          121,
          185,
          45,
          91,
          230,
          250,
          53,
          117,
          144,
          114,
          123,
          237,
          217,
          64,
          238,
          24,
          212,
          156,
          13,
          125,
          52,
          170,
          134,
          167,
          187,
          102,
          77,
          148,
          229,
          233,
          27,
          176,
          100,
          94,
          127,
          23,
          21,
          172,
          29,
          147,
          131,
          46,
          82,
          101,
          194,
          234,
          177,
          6,
          120,
          14,
          169,
          84,
          228,
          3,
          242,
          113,
          202,
          139,
          92,
          58,
          195,
          130,
          243,
          47,
          213,
          26,
          122,
          86,
          209,
          155,
          20,
          193,
          10,
          30,
          163,
          218,
          124,
          207,
          152,
          97,
          17,
          232,
          106,
          116,
          0,
          236,
          143,
          199,
          71,
          146,
          210,
          73,
          38,
          103,
          184,
          180,
          216,
          7,
          244,
          28,
          99,
          164,
          62,
          8,
          201,
          105,
          128,
          246,
          107,
          76,
          138,
          126,
          19,
          72,
          44,
          162,
          59,
          225,
          157,
          115,
          136,
          111,
          83,
          49,
          241,
          221,
          140,
          5,
          110,
          192,
          220,
          60,
          168,
          247,
          132,
          40,
          205,
          137,
          239,
          75,
          87,
          63,
          70,
          81,
          11,
          95
         ],
         "y": [
          86.3,
          87.04,
          94.66,
          109.24,
          98.1,
          89.03,
          86.92,
          109.87,
          93.2,
          104.36,
          80.13,
          101.73,
          94.08,
          100.93,
          108.12,
          101.14,
          110.36,
          87.49,
          80.05,
          85.86,
          94.7,
          85.56,
          88.95,
          83.25,
          85.88,
          85.95,
          100.86,
          84.7,
          93.92,
          84.28,
          102.5,
          109.7,
          85.92,
          93.14,
          91.8,
          102.04,
          86.83,
          97.45,
          95.62,
          102.18,
          96.61,
          86.75,
          92.55,
          87.18,
          99.9,
          85.02,
          90.49,
          96.14,
          79.54,
          99.68,
          88.13,
          105.83,
          100.42,
          101.68,
          106,
          88.14,
          90.5,
          96.54,
          97.58,
          95.51,
          83.48,
          111.78,
          87.82,
          92.52,
          98.07,
          81.94,
          82.73,
          107.66,
          82.52,
          94.9,
          99.9,
          86.35,
          88.7,
          88.29,
          99.81,
          94.28,
          111.63,
          84.35,
          102.21,
          81.67,
          105.22,
          88.49,
          96.21,
          86.2,
          101.82,
          101.14,
          86.88,
          99.76,
          91.93,
          88.89,
          96.33,
          100.3,
          106,
          87.06,
          94.15,
          84.48,
          99.93,
          89.75,
          87.02,
          93.57,
          81.25,
          99.4,
          82.94,
          81.58,
          99.61,
          92.15,
          98.01,
          86.67,
          93.1,
          90.77,
          79.9,
          93.95,
          91.35,
          100.52,
          82.65,
          90.46,
          94.82,
          91.92,
          90.15,
          95.83,
          85.78,
          88.1,
          84.16,
          89.07,
          109.54,
          113.21,
          93.38,
          84.85,
          106.54,
          83.68,
          87.96,
          100.45,
          85.63,
          84.99,
          88.97,
          91.82,
          98.75,
          104.44,
          93.76,
          89.79,
          99.57,
          99.57,
          81.01,
          89.49,
          85.96,
          98.54,
          86.13,
          95.69,
          99.3,
          102.97,
          99.97,
          91.99,
          88.1,
          89.02,
          99.25,
          99.43,
          100.13,
          84.35,
          92.86,
          99.91,
          95.93,
          85.36,
          102.09,
          104.63,
          100.84,
          82.47,
          86.37,
          99.91,
          100.43,
          88.74,
          91.32,
          86.6,
          90.47,
          89.06,
          80.81,
          92.16
         ]
        },
        {
         "mode": "lines",
         "name": "Predicted",
         "type": "scatter",
         "x": [
          54,
          66,
          215,
          171,
          141,
          57,
          208,
          178,
          150,
          248,
          16,
          166,
          145,
          129,
          186,
          160,
          175,
          51,
          18,
          61,
          214,
          68,
          79,
          1,
          43,
          67,
          118,
          9,
          198,
          36,
          121,
          185,
          45,
          91,
          230,
          250,
          53,
          117,
          144,
          114,
          123,
          237,
          217,
          64,
          238,
          24,
          212,
          156,
          13,
          125,
          52,
          170,
          134,
          167,
          187,
          102,
          77,
          148,
          229,
          233,
          27,
          176,
          100,
          94,
          127,
          23,
          21,
          172,
          29,
          147,
          131,
          46,
          82,
          101,
          194,
          234,
          177,
          6,
          120,
          14,
          169,
          84,
          228,
          3,
          242,
          113,
          202,
          139,
          92,
          58,
          195,
          130,
          243,
          47,
          213,
          26,
          122,
          86,
          209,
          155,
          20,
          193,
          10,
          30,
          163,
          218,
          124,
          207,
          152,
          97,
          17,
          232,
          106,
          116,
          0,
          236,
          143,
          199,
          71,
          146,
          210,
          73,
          38,
          103,
          184,
          180,
          216,
          7,
          244,
          28,
          99,
          164,
          62,
          8,
          201,
          105,
          128,
          246,
          107,
          76,
          138,
          126,
          19,
          72,
          44,
          162,
          59,
          225,
          157,
          115,
          136,
          111,
          83,
          49,
          241,
          221,
          140,
          5,
          110,
          192,
          220,
          60,
          168,
          247,
          132,
          40,
          205,
          137,
          239,
          75,
          87,
          63,
          70,
          81,
          11,
          95
         ],
         "y": [
          88.20763091138195,
          89.10036603871087,
          100.18516053637835,
          96.91179840283895,
          94.67996058451665,
          88.43081469321419,
          99.6643983787698,
          97.4325605604475,
          95.34951193001334,
          102.64018213653289,
          85.38063634150703,
          96.53982543311857,
          94.97753896029296,
          93.78722545718773,
          98.0277173120001,
          96.09345786945411,
          97.20937677861527,
          87.98444712954972,
          85.52942552939518,
          88.7283930689905,
          100.11076594243427,
          89.24915522659903,
          90.06749575998387,
          84.26471743234588,
          87.38929037799711,
          89.17476063265495,
          92.96888492380288,
          84.85987418389848,
          98.92045243932904,
          86.86852822038857,
          93.19206870563511,
          97.95332271805603,
          87.53807956588525,
          90.9602308873128,
          101.3010794455395,
          102.78897132442103,
          88.13323631743788,
          92.8944903298588,
          94.90314436634888,
          92.67130654802656,
          93.34085789352326,
          101.82184160314803,
          100.33394972426649,
          88.95157685082272,
          101.89623619709211,
          85.97579309305965,
          99.96197675454611,
          95.7958794936778,
          85.1574525596748,
          93.48964708141142,
          88.0588417234938,
          96.83740380889488,
          94.1591984269081,
          96.61422002706264,
          98.10211190594418,
          91.77857142069765,
          89.91870657209573,
          95.20072274212518,
          101.22668485159542,
          101.52426322737173,
          86.19897687489187,
          97.28377137255934,
          91.62978223280949,
          91.18341466914504,
          93.63843626929958,
          85.90139849911557,
          85.75260931122742,
          96.98619299678303,
          86.34776606278002,
          95.1263281481811,
          93.93601464507589,
          87.61247415982933,
          90.2906795418161,
          91.70417682675357,
          98.62287406355273,
          101.59865782131581,
          97.35816596650342,
          84.63669040206626,
          93.11767411169103,
          85.23184715361887,
          96.7630092149508,
          90.43946872970426,
          101.15229025765134,
          84.41350662023403,
          102.19381457286842,
          92.59691195408249,
          99.21803081510534,
          94.5311713966285,
          91.03462548125688,
          88.50520928715827,
          98.6972686574968,
          93.86162005113181,
          102.2682091668125,
          87.68686875377341,
          100.03637134849019,
          86.1245822809478,
          93.26646329957919,
          90.58825791759241,
          99.73879297271388,
          95.72148489973372,
          85.67821471728334,
          98.54847946960865,
          84.93426877784256,
          86.4221606567241,
          96.31664165128635,
          100.40834431821057,
          93.41525248746734,
          99.59000378482573,
          95.49830111790149,
          91.40659845097726,
          85.4550309354511,
          101.44986863342766,
          92.07614979647396,
          92.82009573591472,
          84.1903228384018,
          101.74744700920397,
          94.8287497724048,
          98.99484703327312,
          89.47233900843126,
          95.05193355423704,
          99.81318756665796,
          89.62112819631942,
          87.01731740827672,
          91.85296601464172,
          97.87892812411195,
          97.58134974833565,
          100.25955513032241,
          84.71108499601034,
          102.34260376075657,
          86.27337146883595,
          91.55538763886541,
          96.39103624523042,
          88.80278766293456,
          84.78547958995442,
          99.14363622116126,
          92.00175520252988,
          93.71283086324365,
          102.49139294864473,
          92.15054439041803,
          89.84431197815165,
          94.45677680268442,
          93.5640416753555,
          85.60382012333926,
          89.54673360237534,
          87.46368497194118,
          96.24224705734227,
          88.57960388110234,
          100.92910647581911,
          95.87027408762188,
          92.74570114197064,
          94.30798761479626,
          92.44812276619434,
          90.36507413576018,
          87.83565794166157,
          102.11941997892434,
          100.6315281000428,
          94.60556599057257,
          84.56229580812219,
          92.37372817225027,
          98.47408487566457,
          100.55713350609872,
          88.65399847504642,
          96.68861462100672,
          102.56578754258881,
          94.01040923901995,
          87.16610659616488,
          99.44121459693757,
          94.38238220874034,
          101.97063079103619,
          89.76991738420757,
          90.66265251153649,
          88.87718225687864,
          89.39794441448718,
          90.21628494787203,
          85.00866337178664,
          91.25780926308911
         ]
        }
       ],
       "layout": {
        "template": {
         "data": {
          "bar": [
           {
            "error_x": {
             "color": "#2a3f5f"
            },
            "error_y": {
             "color": "#2a3f5f"
            },
            "marker": {
             "line": {
              "color": "#E5ECF6",
              "width": 0.5
             },
             "pattern": {
              "fillmode": "overlay",
              "size": 10,
              "solidity": 0.2
             }
            },
            "type": "bar"
           }
          ],
          "barpolar": [
           {
            "marker": {
             "line": {
              "color": "#E5ECF6",
              "width": 0.5
             },
             "pattern": {
              "fillmode": "overlay",
              "size": 10,
              "solidity": 0.2
             }
            },
            "type": "barpolar"
           }
          ],
          "carpet": [
           {
            "aaxis": {
             "endlinecolor": "#2a3f5f",
             "gridcolor": "white",
             "linecolor": "white",
             "minorgridcolor": "white",
             "startlinecolor": "#2a3f5f"
            },
            "baxis": {
             "endlinecolor": "#2a3f5f",
             "gridcolor": "white",
             "linecolor": "white",
             "minorgridcolor": "white",
             "startlinecolor": "#2a3f5f"
            },
            "type": "carpet"
           }
          ],
          "choropleth": [
           {
            "colorbar": {
             "outlinewidth": 0,
             "ticks": ""
            },
            "type": "choropleth"
           }
          ],
          "contour": [
           {
            "colorbar": {
             "outlinewidth": 0,
             "ticks": ""
            },
            "colorscale": [
             [
              0,
              "#0d0887"
             ],
             [
              0.1111111111111111,
              "#46039f"
             ],
             [
              0.2222222222222222,
              "#7201a8"
             ],
             [
              0.3333333333333333,
              "#9c179e"
             ],
             [
              0.4444444444444444,
              "#bd3786"
             ],
             [
              0.5555555555555556,
              "#d8576b"
             ],
             [
              0.6666666666666666,
              "#ed7953"
             ],
             [
              0.7777777777777778,
              "#fb9f3a"
             ],
             [
              0.8888888888888888,
              "#fdca26"
             ],
             [
              1,
              "#f0f921"
             ]
            ],
            "type": "contour"
           }
          ],
          "contourcarpet": [
           {
            "colorbar": {
             "outlinewidth": 0,
             "ticks": ""
            },
            "type": "contourcarpet"
           }
          ],
          "heatmap": [
           {
            "colorbar": {
             "outlinewidth": 0,
             "ticks": ""
            },
            "colorscale": [
             [
              0,
              "#0d0887"
             ],
             [
              0.1111111111111111,
              "#46039f"
             ],
             [
              0.2222222222222222,
              "#7201a8"
             ],
             [
              0.3333333333333333,
              "#9c179e"
             ],
             [
              0.4444444444444444,
              "#bd3786"
             ],
             [
              0.5555555555555556,
              "#d8576b"
             ],
             [
              0.6666666666666666,
              "#ed7953"
             ],
             [
              0.7777777777777778,
              "#fb9f3a"
             ],
             [
              0.8888888888888888,
              "#fdca26"
             ],
             [
              1,
              "#f0f921"
             ]
            ],
            "type": "heatmap"
           }
          ],
          "heatmapgl": [
           {
            "colorbar": {
             "outlinewidth": 0,
             "ticks": ""
            },
            "colorscale": [
             [
              0,
              "#0d0887"
             ],
             [
              0.1111111111111111,
              "#46039f"
             ],
             [
              0.2222222222222222,
              "#7201a8"
             ],
             [
              0.3333333333333333,
              "#9c179e"
             ],
             [
              0.4444444444444444,
              "#bd3786"
             ],
             [
              0.5555555555555556,
              "#d8576b"
             ],
             [
              0.6666666666666666,
              "#ed7953"
             ],
             [
              0.7777777777777778,
              "#fb9f3a"
             ],
             [
              0.8888888888888888,
              "#fdca26"
             ],
             [
              1,
              "#f0f921"
             ]
            ],
            "type": "heatmapgl"
           }
          ],
          "histogram": [
           {
            "marker": {
             "pattern": {
              "fillmode": "overlay",
              "size": 10,
              "solidity": 0.2
             }
            },
            "type": "histogram"
           }
          ],
          "histogram2d": [
           {
            "colorbar": {
             "outlinewidth": 0,
             "ticks": ""
            },
            "colorscale": [
             [
              0,
              "#0d0887"
             ],
             [
              0.1111111111111111,
              "#46039f"
             ],
             [
              0.2222222222222222,
              "#7201a8"
             ],
             [
              0.3333333333333333,
              "#9c179e"
             ],
             [
              0.4444444444444444,
              "#bd3786"
             ],
             [
              0.5555555555555556,
              "#d8576b"
             ],
             [
              0.6666666666666666,
              "#ed7953"
             ],
             [
              0.7777777777777778,
              "#fb9f3a"
             ],
             [
              0.8888888888888888,
              "#fdca26"
             ],
             [
              1,
              "#f0f921"
             ]
            ],
            "type": "histogram2d"
           }
          ],
          "histogram2dcontour": [
           {
            "colorbar": {
             "outlinewidth": 0,
             "ticks": ""
            },
            "colorscale": [
             [
              0,
              "#0d0887"
             ],
             [
              0.1111111111111111,
              "#46039f"
             ],
             [
              0.2222222222222222,
              "#7201a8"
             ],
             [
              0.3333333333333333,
              "#9c179e"
             ],
             [
              0.4444444444444444,
              "#bd3786"
             ],
             [
              0.5555555555555556,
              "#d8576b"
             ],
             [
              0.6666666666666666,
              "#ed7953"
             ],
             [
              0.7777777777777778,
              "#fb9f3a"
             ],
             [
              0.8888888888888888,
              "#fdca26"
             ],
             [
              1,
              "#f0f921"
             ]
            ],
            "type": "histogram2dcontour"
           }
          ],
          "mesh3d": [
           {
            "colorbar": {
             "outlinewidth": 0,
             "ticks": ""
            },
            "type": "mesh3d"
           }
          ],
          "parcoords": [
           {
            "line": {
             "colorbar": {
              "outlinewidth": 0,
              "ticks": ""
             }
            },
            "type": "parcoords"
           }
          ],
          "pie": [
           {
            "automargin": true,
            "type": "pie"
           }
          ],
          "scatter": [
           {
            "fillpattern": {
             "fillmode": "overlay",
             "size": 10,
             "solidity": 0.2
            },
            "type": "scatter"
           }
          ],
          "scatter3d": [
           {
            "line": {
             "colorbar": {
              "outlinewidth": 0,
              "ticks": ""
             }
            },
            "marker": {
             "colorbar": {
              "outlinewidth": 0,
              "ticks": ""
             }
            },
            "type": "scatter3d"
           }
          ],
          "scattercarpet": [
           {
            "marker": {
             "colorbar": {
              "outlinewidth": 0,
              "ticks": ""
             }
            },
            "type": "scattercarpet"
           }
          ],
          "scattergeo": [
           {
            "marker": {
             "colorbar": {
              "outlinewidth": 0,
              "ticks": ""
             }
            },
            "type": "scattergeo"
           }
          ],
          "scattergl": [
           {
            "marker": {
             "colorbar": {
              "outlinewidth": 0,
              "ticks": ""
             }
            },
            "type": "scattergl"
           }
          ],
          "scattermapbox": [
           {
            "marker": {
             "colorbar": {
              "outlinewidth": 0,
              "ticks": ""
             }
            },
            "type": "scattermapbox"
           }
          ],
          "scatterpolar": [
           {
            "marker": {
             "colorbar": {
              "outlinewidth": 0,
              "ticks": ""
             }
            },
            "type": "scatterpolar"
           }
          ],
          "scatterpolargl": [
           {
            "marker": {
             "colorbar": {
              "outlinewidth": 0,
              "ticks": ""
             }
            },
            "type": "scatterpolargl"
           }
          ],
          "scatterternary": [
           {
            "marker": {
             "colorbar": {
              "outlinewidth": 0,
              "ticks": ""
             }
            },
            "type": "scatterternary"
           }
          ],
          "surface": [
           {
            "colorbar": {
             "outlinewidth": 0,
             "ticks": ""
            },
            "colorscale": [
             [
              0,
              "#0d0887"
             ],
             [
              0.1111111111111111,
              "#46039f"
             ],
             [
              0.2222222222222222,
              "#7201a8"
             ],
             [
              0.3333333333333333,
              "#9c179e"
             ],
             [
              0.4444444444444444,
              "#bd3786"
             ],
             [
              0.5555555555555556,
              "#d8576b"
             ],
             [
              0.6666666666666666,
              "#ed7953"
             ],
             [
              0.7777777777777778,
              "#fb9f3a"
             ],
             [
              0.8888888888888888,
              "#fdca26"
             ],
             [
              1,
              "#f0f921"
             ]
            ],
            "type": "surface"
           }
          ],
          "table": [
           {
            "cells": {
             "fill": {
              "color": "#EBF0F8"
             },
             "line": {
              "color": "white"
             }
            },
            "header": {
             "fill": {
              "color": "#C8D4E3"
             },
             "line": {
              "color": "white"
             }
            },
            "type": "table"
           }
          ]
         },
         "layout": {
          "annotationdefaults": {
           "arrowcolor": "#2a3f5f",
           "arrowhead": 0,
           "arrowwidth": 1
          },
          "autotypenumbers": "strict",
          "coloraxis": {
           "colorbar": {
            "outlinewidth": 0,
            "ticks": ""
           }
          },
          "colorscale": {
           "diverging": [
            [
             0,
             "#8e0152"
            ],
            [
             0.1,
             "#c51b7d"
            ],
            [
             0.2,
             "#de77ae"
            ],
            [
             0.3,
             "#f1b6da"
            ],
            [
             0.4,
             "#fde0ef"
            ],
            [
             0.5,
             "#f7f7f7"
            ],
            [
             0.6,
             "#e6f5d0"
            ],
            [
             0.7,
             "#b8e186"
            ],
            [
             0.8,
             "#7fbc41"
            ],
            [
             0.9,
             "#4d9221"
            ],
            [
             1,
             "#276419"
            ]
           ],
           "sequential": [
            [
             0,
             "#0d0887"
            ],
            [
             0.1111111111111111,
             "#46039f"
            ],
            [
             0.2222222222222222,
             "#7201a8"
            ],
            [
             0.3333333333333333,
             "#9c179e"
            ],
            [
             0.4444444444444444,
             "#bd3786"
            ],
            [
             0.5555555555555556,
             "#d8576b"
            ],
            [
             0.6666666666666666,
             "#ed7953"
            ],
            [
             0.7777777777777778,
             "#fb9f3a"
            ],
            [
             0.8888888888888888,
             "#fdca26"
            ],
            [
             1,
             "#f0f921"
            ]
           ],
           "sequentialminus": [
            [
             0,
             "#0d0887"
            ],
            [
             0.1111111111111111,
             "#46039f"
            ],
            [
             0.2222222222222222,
             "#7201a8"
            ],
            [
             0.3333333333333333,
             "#9c179e"
            ],
            [
             0.4444444444444444,
             "#bd3786"
            ],
            [
             0.5555555555555556,
             "#d8576b"
            ],
            [
             0.6666666666666666,
             "#ed7953"
            ],
            [
             0.7777777777777778,
             "#fb9f3a"
            ],
            [
             0.8888888888888888,
             "#fdca26"
            ],
            [
             1,
             "#f0f921"
            ]
           ]
          },
          "colorway": [
           "#636efa",
           "#EF553B",
           "#00cc96",
           "#ab63fa",
           "#FFA15A",
           "#19d3f3",
           "#FF6692",
           "#B6E880",
           "#FF97FF",
           "#FECB52"
          ],
          "font": {
           "color": "#2a3f5f"
          },
          "geo": {
           "bgcolor": "white",
           "lakecolor": "white",
           "landcolor": "#E5ECF6",
           "showlakes": true,
           "showland": true,
           "subunitcolor": "white"
          },
          "hoverlabel": {
           "align": "left"
          },
          "hovermode": "closest",
          "mapbox": {
           "style": "light"
          },
          "paper_bgcolor": "white",
          "plot_bgcolor": "#E5ECF6",
          "polar": {
           "angularaxis": {
            "gridcolor": "white",
            "linecolor": "white",
            "ticks": ""
           },
           "bgcolor": "#E5ECF6",
           "radialaxis": {
            "gridcolor": "white",
            "linecolor": "white",
            "ticks": ""
           }
          },
          "scene": {
           "xaxis": {
            "backgroundcolor": "#E5ECF6",
            "gridcolor": "white",
            "gridwidth": 2,
            "linecolor": "white",
            "showbackground": true,
            "ticks": "",
            "zerolinecolor": "white"
           },
           "yaxis": {
            "backgroundcolor": "#E5ECF6",
            "gridcolor": "white",
            "gridwidth": 2,
            "linecolor": "white",
            "showbackground": true,
            "ticks": "",
            "zerolinecolor": "white"
           },
           "zaxis": {
            "backgroundcolor": "#E5ECF6",
            "gridcolor": "white",
            "gridwidth": 2,
            "linecolor": "white",
            "showbackground": true,
            "ticks": "",
            "zerolinecolor": "white"
           }
          },
          "shapedefaults": {
           "line": {
            "color": "#2a3f5f"
           }
          },
          "ternary": {
           "aaxis": {
            "gridcolor": "white",
            "linecolor": "white",
            "ticks": ""
           },
           "baxis": {
            "gridcolor": "white",
            "linecolor": "white",
            "ticks": ""
           },
           "bgcolor": "#E5ECF6",
           "caxis": {
            "gridcolor": "white",
            "linecolor": "white",
            "ticks": ""
           }
          },
          "title": {
           "x": 0.05
          },
          "xaxis": {
           "automargin": true,
           "gridcolor": "white",
           "linecolor": "white",
           "ticks": "",
           "title": {
            "standoff": 15
           },
           "zerolinecolor": "white",
           "zerolinewidth": 2
          },
          "yaxis": {
           "automargin": true,
           "gridcolor": "white",
           "linecolor": "white",
           "ticks": "",
           "title": {
            "standoff": 15
           },
           "zerolinecolor": "white",
           "zerolinewidth": 2
          }
         }
        },
        "title": {
         "text": "Stock Prices of Disney"
        },
        "xaxis": {
         "title": {
          "font": {
           "color": "#7f7f7f",
           "family": "Courier New, monospace",
           "size": 18
          },
          "text": "Day"
         }
        },
        "yaxis": {
         "title": {
          "font": {
           "color": "#7f7f7f",
           "family": "Courier New, monospace",
           "size": 18
          },
          "text": "Price"
         }
        }
       }
      },
      "text/html": [
       "<div>                            <div id=\"ba5a4b02-a7f9-4cda-8b6a-e1fca7562b6f\" class=\"plotly-graph-div\" style=\"height:525px; width:100%;\"></div>            <script type=\"text/javascript\">                require([\"plotly\"], function(Plotly) {                    window.PLOTLYENV=window.PLOTLYENV || {};                                    if (document.getElementById(\"ba5a4b02-a7f9-4cda-8b6a-e1fca7562b6f\")) {                    Plotly.newPlot(                        \"ba5a4b02-a7f9-4cda-8b6a-e1fca7562b6f\",                        [{\"mode\":\"markers\",\"name\":\"Actual\",\"x\":[54,66,215,171,141,57,208,178,150,248,16,166,145,129,186,160,175,51,18,61,214,68,79,1,43,67,118,9,198,36,121,185,45,91,230,250,53,117,144,114,123,237,217,64,238,24,212,156,13,125,52,170,134,167,187,102,77,148,229,233,27,176,100,94,127,23,21,172,29,147,131,46,82,101,194,234,177,6,120,14,169,84,228,3,242,113,202,139,92,58,195,130,243,47,213,26,122,86,209,155,20,193,10,30,163,218,124,207,152,97,17,232,106,116,0,236,143,199,71,146,210,73,38,103,184,180,216,7,244,28,99,164,62,8,201,105,128,246,107,76,138,126,19,72,44,162,59,225,157,115,136,111,83,49,241,221,140,5,110,192,220,60,168,247,132,40,205,137,239,75,87,63,70,81,11,95],\"y\":[86.3,87.04,94.66,109.24,98.1,89.03,86.92,109.87,93.2,104.36,80.13,101.73,94.08,100.93,108.12,101.14,110.36,87.49,80.05,85.86,94.7,85.56,88.95,83.25,85.88,85.95,100.86,84.7,93.92,84.28,102.5,109.7,85.92,93.14,91.8,102.04,86.83,97.45,95.62,102.18,96.61,86.75,92.55,87.18,99.9,85.02,90.49,96.14,79.54,99.68,88.13,105.83,100.42,101.68,106.0,88.14,90.5,96.54,97.58,95.51,83.48,111.78,87.82,92.52,98.07,81.94,82.73,107.66,82.52,94.9,99.9,86.35,88.7,88.29,99.81,94.28,111.63,84.35,102.21,81.67,105.22,88.49,96.21,86.2,101.82,101.14,86.88,99.76,91.93,88.89,96.33,100.3,106.0,87.06,94.15,84.48,99.93,89.75,87.02,93.57,81.25,99.4,82.94,81.58,99.61,92.15,98.01,86.67,93.1,90.77,79.9,93.95,91.35,100.52,82.65,90.46,94.82,91.92,90.15,95.83,85.78,88.1,84.16,89.07,109.54,113.21,93.38,84.85,106.54,83.68,87.96,100.45,85.63,84.99,88.97,91.82,98.75,104.44,93.76,89.79,99.57,99.57,81.01,89.49,85.96,98.54,86.13,95.69,99.3,102.97,99.97,91.99,88.1,89.02,99.25,99.43,100.13,84.35,92.86,99.91,95.93,85.36,102.09,104.63,100.84,82.47,86.37,99.91,100.43,88.74,91.32,86.6,90.47,89.06,80.81,92.16],\"type\":\"scatter\"},{\"mode\":\"lines\",\"name\":\"Predicted\",\"x\":[54,66,215,171,141,57,208,178,150,248,16,166,145,129,186,160,175,51,18,61,214,68,79,1,43,67,118,9,198,36,121,185,45,91,230,250,53,117,144,114,123,237,217,64,238,24,212,156,13,125,52,170,134,167,187,102,77,148,229,233,27,176,100,94,127,23,21,172,29,147,131,46,82,101,194,234,177,6,120,14,169,84,228,3,242,113,202,139,92,58,195,130,243,47,213,26,122,86,209,155,20,193,10,30,163,218,124,207,152,97,17,232,106,116,0,236,143,199,71,146,210,73,38,103,184,180,216,7,244,28,99,164,62,8,201,105,128,246,107,76,138,126,19,72,44,162,59,225,157,115,136,111,83,49,241,221,140,5,110,192,220,60,168,247,132,40,205,137,239,75,87,63,70,81,11,95],\"y\":[88.20763091138195,89.10036603871087,100.18516053637835,96.91179840283895,94.67996058451665,88.43081469321419,99.6643983787698,97.4325605604475,95.34951193001334,102.64018213653289,85.38063634150703,96.53982543311857,94.97753896029296,93.78722545718773,98.0277173120001,96.09345786945411,97.20937677861527,87.98444712954972,85.52942552939518,88.7283930689905,100.11076594243427,89.24915522659903,90.06749575998387,84.26471743234588,87.38929037799711,89.17476063265495,92.96888492380288,84.85987418389848,98.92045243932904,86.86852822038857,93.19206870563511,97.95332271805603,87.53807956588525,90.9602308873128,101.3010794455395,102.78897132442103,88.13323631743788,92.8944903298588,94.90314436634888,92.67130654802656,93.34085789352326,101.82184160314803,100.33394972426649,88.95157685082272,101.89623619709211,85.97579309305965,99.96197675454611,95.7958794936778,85.1574525596748,93.48964708141142,88.0588417234938,96.83740380889488,94.1591984269081,96.61422002706264,98.10211190594418,91.77857142069765,89.91870657209573,95.20072274212518,101.22668485159542,101.52426322737173,86.19897687489187,97.28377137255934,91.62978223280949,91.18341466914504,93.63843626929958,85.90139849911557,85.75260931122742,96.98619299678303,86.34776606278002,95.1263281481811,93.93601464507589,87.61247415982933,90.2906795418161,91.70417682675357,98.62287406355273,101.59865782131581,97.35816596650342,84.63669040206626,93.11767411169103,85.23184715361887,96.7630092149508,90.43946872970426,101.15229025765134,84.41350662023403,102.19381457286842,92.59691195408249,99.21803081510534,94.5311713966285,91.03462548125688,88.50520928715827,98.6972686574968,93.86162005113181,102.2682091668125,87.68686875377341,100.03637134849019,86.1245822809478,93.26646329957919,90.58825791759241,99.73879297271388,95.72148489973372,85.67821471728334,98.54847946960865,84.93426877784256,86.4221606567241,96.31664165128635,100.40834431821057,93.41525248746734,99.59000378482573,95.49830111790149,91.40659845097726,85.4550309354511,101.44986863342766,92.07614979647396,92.82009573591472,84.1903228384018,101.74744700920397,94.8287497724048,98.99484703327312,89.47233900843126,95.05193355423704,99.81318756665796,89.62112819631942,87.01731740827672,91.85296601464172,97.87892812411195,97.58134974833565,100.25955513032241,84.71108499601034,102.34260376075657,86.27337146883595,91.55538763886541,96.39103624523042,88.80278766293456,84.78547958995442,99.14363622116126,92.00175520252988,93.71283086324365,102.49139294864473,92.15054439041803,89.84431197815165,94.45677680268442,93.5640416753555,85.60382012333926,89.54673360237534,87.46368497194118,96.24224705734227,88.57960388110234,100.92910647581911,95.87027408762188,92.74570114197064,94.30798761479626,92.44812276619434,90.36507413576018,87.83565794166157,102.11941997892434,100.6315281000428,94.60556599057257,84.56229580812219,92.37372817225027,98.47408487566457,100.55713350609872,88.65399847504642,96.68861462100672,102.56578754258881,94.01040923901995,87.16610659616488,99.44121459693757,94.38238220874034,101.97063079103619,89.76991738420757,90.66265251153649,88.87718225687864,89.39794441448718,90.21628494787203,85.00866337178664,91.25780926308911],\"type\":\"scatter\"}],                        {\"template\":{\"data\":{\"barpolar\":[{\"marker\":{\"line\":{\"color\":\"#E5ECF6\",\"width\":0.5},\"pattern\":{\"fillmode\":\"overlay\",\"size\":10,\"solidity\":0.2}},\"type\":\"barpolar\"}],\"bar\":[{\"error_x\":{\"color\":\"#2a3f5f\"},\"error_y\":{\"color\":\"#2a3f5f\"},\"marker\":{\"line\":{\"color\":\"#E5ECF6\",\"width\":0.5},\"pattern\":{\"fillmode\":\"overlay\",\"size\":10,\"solidity\":0.2}},\"type\":\"bar\"}],\"carpet\":[{\"aaxis\":{\"endlinecolor\":\"#2a3f5f\",\"gridcolor\":\"white\",\"linecolor\":\"white\",\"minorgridcolor\":\"white\",\"startlinecolor\":\"#2a3f5f\"},\"baxis\":{\"endlinecolor\":\"#2a3f5f\",\"gridcolor\":\"white\",\"linecolor\":\"white\",\"minorgridcolor\":\"white\",\"startlinecolor\":\"#2a3f5f\"},\"type\":\"carpet\"}],\"choropleth\":[{\"colorbar\":{\"outlinewidth\":0,\"ticks\":\"\"},\"type\":\"choropleth\"}],\"contourcarpet\":[{\"colorbar\":{\"outlinewidth\":0,\"ticks\":\"\"},\"type\":\"contourcarpet\"}],\"contour\":[{\"colorbar\":{\"outlinewidth\":0,\"ticks\":\"\"},\"colorscale\":[[0.0,\"#0d0887\"],[0.1111111111111111,\"#46039f\"],[0.2222222222222222,\"#7201a8\"],[0.3333333333333333,\"#9c179e\"],[0.4444444444444444,\"#bd3786\"],[0.5555555555555556,\"#d8576b\"],[0.6666666666666666,\"#ed7953\"],[0.7777777777777778,\"#fb9f3a\"],[0.8888888888888888,\"#fdca26\"],[1.0,\"#f0f921\"]],\"type\":\"contour\"}],\"heatmapgl\":[{\"colorbar\":{\"outlinewidth\":0,\"ticks\":\"\"},\"colorscale\":[[0.0,\"#0d0887\"],[0.1111111111111111,\"#46039f\"],[0.2222222222222222,\"#7201a8\"],[0.3333333333333333,\"#9c179e\"],[0.4444444444444444,\"#bd3786\"],[0.5555555555555556,\"#d8576b\"],[0.6666666666666666,\"#ed7953\"],[0.7777777777777778,\"#fb9f3a\"],[0.8888888888888888,\"#fdca26\"],[1.0,\"#f0f921\"]],\"type\":\"heatmapgl\"}],\"heatmap\":[{\"colorbar\":{\"outlinewidth\":0,\"ticks\":\"\"},\"colorscale\":[[0.0,\"#0d0887\"],[0.1111111111111111,\"#46039f\"],[0.2222222222222222,\"#7201a8\"],[0.3333333333333333,\"#9c179e\"],[0.4444444444444444,\"#bd3786\"],[0.5555555555555556,\"#d8576b\"],[0.6666666666666666,\"#ed7953\"],[0.7777777777777778,\"#fb9f3a\"],[0.8888888888888888,\"#fdca26\"],[1.0,\"#f0f921\"]],\"type\":\"heatmap\"}],\"histogram2dcontour\":[{\"colorbar\":{\"outlinewidth\":0,\"ticks\":\"\"},\"colorscale\":[[0.0,\"#0d0887\"],[0.1111111111111111,\"#46039f\"],[0.2222222222222222,\"#7201a8\"],[0.3333333333333333,\"#9c179e\"],[0.4444444444444444,\"#bd3786\"],[0.5555555555555556,\"#d8576b\"],[0.6666666666666666,\"#ed7953\"],[0.7777777777777778,\"#fb9f3a\"],[0.8888888888888888,\"#fdca26\"],[1.0,\"#f0f921\"]],\"type\":\"histogram2dcontour\"}],\"histogram2d\":[{\"colorbar\":{\"outlinewidth\":0,\"ticks\":\"\"},\"colorscale\":[[0.0,\"#0d0887\"],[0.1111111111111111,\"#46039f\"],[0.2222222222222222,\"#7201a8\"],[0.3333333333333333,\"#9c179e\"],[0.4444444444444444,\"#bd3786\"],[0.5555555555555556,\"#d8576b\"],[0.6666666666666666,\"#ed7953\"],[0.7777777777777778,\"#fb9f3a\"],[0.8888888888888888,\"#fdca26\"],[1.0,\"#f0f921\"]],\"type\":\"histogram2d\"}],\"histogram\":[{\"marker\":{\"pattern\":{\"fillmode\":\"overlay\",\"size\":10,\"solidity\":0.2}},\"type\":\"histogram\"}],\"mesh3d\":[{\"colorbar\":{\"outlinewidth\":0,\"ticks\":\"\"},\"type\":\"mesh3d\"}],\"parcoords\":[{\"line\":{\"colorbar\":{\"outlinewidth\":0,\"ticks\":\"\"}},\"type\":\"parcoords\"}],\"pie\":[{\"automargin\":true,\"type\":\"pie\"}],\"scatter3d\":[{\"line\":{\"colorbar\":{\"outlinewidth\":0,\"ticks\":\"\"}},\"marker\":{\"colorbar\":{\"outlinewidth\":0,\"ticks\":\"\"}},\"type\":\"scatter3d\"}],\"scattercarpet\":[{\"marker\":{\"colorbar\":{\"outlinewidth\":0,\"ticks\":\"\"}},\"type\":\"scattercarpet\"}],\"scattergeo\":[{\"marker\":{\"colorbar\":{\"outlinewidth\":0,\"ticks\":\"\"}},\"type\":\"scattergeo\"}],\"scattergl\":[{\"marker\":{\"colorbar\":{\"outlinewidth\":0,\"ticks\":\"\"}},\"type\":\"scattergl\"}],\"scattermapbox\":[{\"marker\":{\"colorbar\":{\"outlinewidth\":0,\"ticks\":\"\"}},\"type\":\"scattermapbox\"}],\"scatterpolargl\":[{\"marker\":{\"colorbar\":{\"outlinewidth\":0,\"ticks\":\"\"}},\"type\":\"scatterpolargl\"}],\"scatterpolar\":[{\"marker\":{\"colorbar\":{\"outlinewidth\":0,\"ticks\":\"\"}},\"type\":\"scatterpolar\"}],\"scatter\":[{\"fillpattern\":{\"fillmode\":\"overlay\",\"size\":10,\"solidity\":0.2},\"type\":\"scatter\"}],\"scatterternary\":[{\"marker\":{\"colorbar\":{\"outlinewidth\":0,\"ticks\":\"\"}},\"type\":\"scatterternary\"}],\"surface\":[{\"colorbar\":{\"outlinewidth\":0,\"ticks\":\"\"},\"colorscale\":[[0.0,\"#0d0887\"],[0.1111111111111111,\"#46039f\"],[0.2222222222222222,\"#7201a8\"],[0.3333333333333333,\"#9c179e\"],[0.4444444444444444,\"#bd3786\"],[0.5555555555555556,\"#d8576b\"],[0.6666666666666666,\"#ed7953\"],[0.7777777777777778,\"#fb9f3a\"],[0.8888888888888888,\"#fdca26\"],[1.0,\"#f0f921\"]],\"type\":\"surface\"}],\"table\":[{\"cells\":{\"fill\":{\"color\":\"#EBF0F8\"},\"line\":{\"color\":\"white\"}},\"header\":{\"fill\":{\"color\":\"#C8D4E3\"},\"line\":{\"color\":\"white\"}},\"type\":\"table\"}]},\"layout\":{\"annotationdefaults\":{\"arrowcolor\":\"#2a3f5f\",\"arrowhead\":0,\"arrowwidth\":1},\"autotypenumbers\":\"strict\",\"coloraxis\":{\"colorbar\":{\"outlinewidth\":0,\"ticks\":\"\"}},\"colorscale\":{\"diverging\":[[0,\"#8e0152\"],[0.1,\"#c51b7d\"],[0.2,\"#de77ae\"],[0.3,\"#f1b6da\"],[0.4,\"#fde0ef\"],[0.5,\"#f7f7f7\"],[0.6,\"#e6f5d0\"],[0.7,\"#b8e186\"],[0.8,\"#7fbc41\"],[0.9,\"#4d9221\"],[1,\"#276419\"]],\"sequential\":[[0.0,\"#0d0887\"],[0.1111111111111111,\"#46039f\"],[0.2222222222222222,\"#7201a8\"],[0.3333333333333333,\"#9c179e\"],[0.4444444444444444,\"#bd3786\"],[0.5555555555555556,\"#d8576b\"],[0.6666666666666666,\"#ed7953\"],[0.7777777777777778,\"#fb9f3a\"],[0.8888888888888888,\"#fdca26\"],[1.0,\"#f0f921\"]],\"sequentialminus\":[[0.0,\"#0d0887\"],[0.1111111111111111,\"#46039f\"],[0.2222222222222222,\"#7201a8\"],[0.3333333333333333,\"#9c179e\"],[0.4444444444444444,\"#bd3786\"],[0.5555555555555556,\"#d8576b\"],[0.6666666666666666,\"#ed7953\"],[0.7777777777777778,\"#fb9f3a\"],[0.8888888888888888,\"#fdca26\"],[1.0,\"#f0f921\"]]},\"colorway\":[\"#636efa\",\"#EF553B\",\"#00cc96\",\"#ab63fa\",\"#FFA15A\",\"#19d3f3\",\"#FF6692\",\"#B6E880\",\"#FF97FF\",\"#FECB52\"],\"font\":{\"color\":\"#2a3f5f\"},\"geo\":{\"bgcolor\":\"white\",\"lakecolor\":\"white\",\"landcolor\":\"#E5ECF6\",\"showlakes\":true,\"showland\":true,\"subunitcolor\":\"white\"},\"hoverlabel\":{\"align\":\"left\"},\"hovermode\":\"closest\",\"mapbox\":{\"style\":\"light\"},\"paper_bgcolor\":\"white\",\"plot_bgcolor\":\"#E5ECF6\",\"polar\":{\"angularaxis\":{\"gridcolor\":\"white\",\"linecolor\":\"white\",\"ticks\":\"\"},\"bgcolor\":\"#E5ECF6\",\"radialaxis\":{\"gridcolor\":\"white\",\"linecolor\":\"white\",\"ticks\":\"\"}},\"scene\":{\"xaxis\":{\"backgroundcolor\":\"#E5ECF6\",\"gridcolor\":\"white\",\"gridwidth\":2,\"linecolor\":\"white\",\"showbackground\":true,\"ticks\":\"\",\"zerolinecolor\":\"white\"},\"yaxis\":{\"backgroundcolor\":\"#E5ECF6\",\"gridcolor\":\"white\",\"gridwidth\":2,\"linecolor\":\"white\",\"showbackground\":true,\"ticks\":\"\",\"zerolinecolor\":\"white\"},\"zaxis\":{\"backgroundcolor\":\"#E5ECF6\",\"gridcolor\":\"white\",\"gridwidth\":2,\"linecolor\":\"white\",\"showbackground\":true,\"ticks\":\"\",\"zerolinecolor\":\"white\"}},\"shapedefaults\":{\"line\":{\"color\":\"#2a3f5f\"}},\"ternary\":{\"aaxis\":{\"gridcolor\":\"white\",\"linecolor\":\"white\",\"ticks\":\"\"},\"baxis\":{\"gridcolor\":\"white\",\"linecolor\":\"white\",\"ticks\":\"\"},\"bgcolor\":\"#E5ECF6\",\"caxis\":{\"gridcolor\":\"white\",\"linecolor\":\"white\",\"ticks\":\"\"}},\"title\":{\"x\":0.05},\"xaxis\":{\"automargin\":true,\"gridcolor\":\"white\",\"linecolor\":\"white\",\"ticks\":\"\",\"title\":{\"standoff\":15},\"zerolinecolor\":\"white\",\"zerolinewidth\":2},\"yaxis\":{\"automargin\":true,\"gridcolor\":\"white\",\"linecolor\":\"white\",\"ticks\":\"\",\"title\":{\"standoff\":15},\"zerolinecolor\":\"white\",\"zerolinewidth\":2}}},\"title\":{\"text\":\"Stock Prices of Disney\"},\"xaxis\":{\"title\":{\"font\":{\"color\":\"#7f7f7f\",\"family\":\"Courier New, monospace\",\"size\":18},\"text\":\"Day\"}},\"yaxis\":{\"title\":{\"font\":{\"color\":\"#7f7f7f\",\"family\":\"Courier New, monospace\",\"size\":18},\"text\":\"Price\"}}},                        {\"responsive\": true}                    ).then(function(){\n",
       "                            \n",
       "var gd = document.getElementById('ba5a4b02-a7f9-4cda-8b6a-e1fca7562b6f');\n",
       "var x = new MutationObserver(function (mutations, observer) {{\n",
       "        var display = window.getComputedStyle(gd).display;\n",
       "        if (!display || display === 'none') {{\n",
       "            console.log([gd, 'removed!']);\n",
       "            Plotly.purge(gd);\n",
       "            observer.disconnect();\n",
       "        }}\n",
       "}});\n",
       "\n",
       "// Listen for the removal of the full notebook cells\n",
       "var notebookContainer = gd.closest('#notebook-container');\n",
       "if (notebookContainer) {{\n",
       "    x.observe(notebookContainer, {childList: true});\n",
       "}}\n",
       "\n",
       "// Listen for the clearing of the current output cell\n",
       "var outputEl = gd.closest('.output');\n",
       "if (outputEl) {{\n",
       "    x.observe(outputEl, {childList: true});\n",
       "}}\n",
       "\n",
       "                        })                };                });            </script>        </div>"
      ]
     },
     "metadata": {},
     "output_type": "display_data"
    }
   ],
   "source": [
    "iplot(plot2)"
   ]
  },
  {
   "cell_type": "code",
   "execution_count": 199,
   "metadata": {},
   "outputs": [
    {
     "name": "stdout",
     "output_type": "stream",
     "text": [
      "\n",
      "Metric           Train                Test        \n",
      "r2_score  0.46016226879383737\t0.4969197410330968\n",
      "MSE       33.84688331012853\t30.501904063896017\n",
      "\n"
     ]
    }
   ],
   "source": [
    "#Calculate scores for model evaluation\n",
    "scores = f'''\n",
    "{'Metric'.ljust(10)}{'Train'.center(20)}{'Test'.center(20)}\n",
    "{'r2_score'.ljust(10)}{r2_score(Y_train, lm.predict(X_train))}\\t{r2_score(Y_test, lm.predict(X_test))}\n",
    "{'MSE'.ljust(10)}{mse(Y_train, lm.predict(X_train))}\\t{mse(Y_test, lm.predict(X_test))}\n",
    "'''\n",
    "print(scores)"
   ]
  },
  {
   "cell_type": "code",
   "execution_count": null,
   "metadata": {},
   "outputs": [],
   "source": []
  },
  {
   "cell_type": "code",
   "execution_count": null,
   "metadata": {},
   "outputs": [],
   "source": []
  }
 ],
 "metadata": {
  "kernelspec": {
   "display_name": "Python 3",
   "language": "python",
   "name": "python3"
  },
  "language_info": {
   "codemirror_mode": {
    "name": "ipython",
    "version": 3
   },
   "file_extension": ".py",
   "mimetype": "text/x-python",
   "name": "python",
   "nbconvert_exporter": "python",
   "pygments_lexer": "ipython3",
   "version": "3.7.4"
  }
 },
 "nbformat": 4,
 "nbformat_minor": 4
}
